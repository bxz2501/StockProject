{
 "cells": [
  {
   "cell_type": "code",
   "execution_count": 1801,
   "metadata": {},
   "outputs": [
    {
     "name": "stderr",
     "output_type": "stream",
     "text": [
      "c:\\Users\\SHSIEH\\Documents\\ProjectsFuture\\ML\\project-walkthroughs\\stock\\stock_env\\lib\\site-packages\\pandas\\io\\sql.py:761: UserWarning: pandas only support SQLAlchemy connectable(engine/connection) ordatabase string URI or sqlite3 DBAPI2 connectionother DBAPI2 objects are not tested, please consider using SQLAlchemy\n",
      "  warnings.warn(\n"
     ]
    }
   ],
   "source": [
    "import pyodbc\n",
    "import pandas as pd\n",
    "\n",
    "symbol = 'intc'\n",
    "conn = pyodbc.connect(\n",
    "    \"DRIVER={SQL Server};SERVER=lenovo-desktop;DATABASE=Qihuo;UID=samtsql;PWD=F(W}q:TsyK,7^+>`P28e79s#Uc5n\")\n",
    "query = f\"\"\"select m1.date as 'Date',DATEPART(hour, m1.Date) AS 'Hour', m1.[Close] as 'Market', m2.[close] as 'Stock'  from MinuteQuote m1\n",
    "inner join MinuteQuote m2 on m1.Date = m2.date\n",
    "where m1.Date > '2002-04-08 01:20:00' and m1.Contract = 'ym' and m2.Contract = '{symbol}'\n",
    "and DATEPART(minute, m1.Date) % 10 = 0\n",
    "order by m1.date\"\"\"\n",
    "\n",
    "df = pd.read_sql(query, conn)\n",
    "df.set_index('Date', inplace=True)\n"
   ]
  },
  {
   "cell_type": "code",
   "execution_count": 1802,
   "metadata": {},
   "outputs": [],
   "source": [
    "df[\"StockReturn\"] = df.rolling(2).apply(lambda x: x.iloc[1] / x.iloc[0] - 1)[\"Stock\"]\n",
    "df[\"MarketReturn\"] = df.rolling(2).apply(lambda x: x.iloc[1] / x.iloc[0] - 1)[\"Market\"]\n",
    "df[\"OutPerform\"] = df[\"StockReturn\"] - df[\"MarketReturn\"]\n",
    "df[\"Target\"] = (df.apply(lambda x: x > 0)[\"OutPerform\"]).astype(int)\n",
    "\n",
    "# df.plot.line(y=\"OutPerform\", use_index=True)"
   ]
  },
  {
   "cell_type": "code",
   "execution_count": 1803,
   "metadata": {},
   "outputs": [],
   "source": [
    "predictors = ['Hour']\n",
    "for i in range(12):\n",
    "    df[f'OutPerform{pow(2,i)*5}'] = df['OutPerform'].rolling(pow(2,i)).sum()\n",
    "    predictors.append(f'OutPerform{pow(2,i)*5}')\n",
    "    df[f'StockReturn{pow(2,i)*5}'] = df['StockReturn'].rolling(pow(2,i)).sum()\n",
    "    predictors.append(f'StockReturn{pow(2,i)*5}')\n"
   ]
  },
  {
   "cell_type": "code",
   "execution_count": 1804,
   "metadata": {},
   "outputs": [],
   "source": [
    "prev = df.copy()\n",
    "prev = prev.shift(1)\n",
    "data = df[[\"OutPerform\",\"Target\"]]\n"
   ]
  },
  {
   "cell_type": "code",
   "execution_count": 1805,
   "metadata": {},
   "outputs": [],
   "source": [
    "data = data.join(prev[predictors])\n",
    "data = data.copy().dropna()\n"
   ]
  },
  {
   "cell_type": "code",
   "execution_count": 1806,
   "metadata": {},
   "outputs": [],
   "source": [
    "from sklearn.ensemble import RandomForestClassifier\n",
    "import numpy as np\n",
    "from sklearn.metrics import precision_score\n",
    "\n",
    "model = RandomForestClassifier(n_estimators=100, min_samples_split=1200, random_state=1)\n"
   ]
  },
  {
   "cell_type": "code",
   "execution_count": 1807,
   "metadata": {},
   "outputs": [],
   "source": [
    "def predict(train, test, predictors, model):\n",
    "    model.fit(train[predictors], train[\"Target\"])\n",
    "    preds = model.predict_proba(test[predictors])[:,1]\n",
    "    preds[preds > .6] = 1\n",
    "    preds[preds<=.6] = 0\n",
    "    print(preds)\n",
    "    preds = pd.Series(preds, index=test.index, name=\"Predictions\")\n",
    "    combined = pd.concat([test[\"Target\"], preds], axis=1)\n",
    "    return combined"
   ]
  },
  {
   "cell_type": "code",
   "execution_count": 1808,
   "metadata": {},
   "outputs": [],
   "source": [
    "def backtest(data, model, predictors, start=50000, step=10000):\n",
    "    all_predictions = []\n",
    "    loop = 0\n",
    "    for i in range(start, data.shape[0], step):\n",
    "        train = data.iloc[loop * step:i].copy()\n",
    "        test = data.iloc[i:(i+step)].copy()\n",
    "        predictions = predict(train, test, predictors, model)\n",
    "        all_predictions.append(predictions)\n",
    "        loop = loop + 1\n",
    "\n",
    "    return pd.concat(all_predictions)\n"
   ]
  },
  {
   "cell_type": "code",
   "execution_count": 1809,
   "metadata": {},
   "outputs": [
    {
     "data": {
      "text/plain": [
       "199767"
      ]
     },
     "execution_count": 1809,
     "metadata": {},
     "output_type": "execute_result"
    }
   ],
   "source": [
    "data.shape[0]"
   ]
  },
  {
   "cell_type": "code",
   "execution_count": 1810,
   "metadata": {},
   "outputs": [
    {
     "name": "stdout",
     "output_type": "stream",
     "text": [
      "[0. 0. 0. ... 0. 0. 0.]\n",
      "[0. 0. 0. ... 0. 0. 0.]\n",
      "[0. 0. 0. ... 0. 0. 0.]\n",
      "[0. 0. 0. ... 0. 0. 0.]\n",
      "[0. 0. 0. ... 0. 0. 0.]\n",
      "[0. 0. 0. ... 0. 0. 0.]\n",
      "[0. 0. 0. ... 0. 0. 0.]\n",
      "[0. 0. 0. ... 0. 0. 0.]\n",
      "[0. 0. 0. ... 0. 0. 0.]\n",
      "[0. 0. 0. ... 0. 0. 0.]\n",
      "[0. 0. 0. ... 0. 0. 0.]\n",
      "[0. 0. 0. ... 0. 0. 0.]\n",
      "[0. 0. 0. ... 0. 0. 0.]\n",
      "[0. 0. 0. ... 0. 0. 0.]\n",
      "[0. 0. 0. ... 0. 0. 0.]\n"
     ]
    }
   ],
   "source": [
    "predictions = backtest(data, model, predictors)"
   ]
  },
  {
   "cell_type": "code",
   "execution_count": 1811,
   "metadata": {},
   "outputs": [
    {
     "name": "stdout",
     "output_type": "stream",
     "text": [
      "                     Target  Predictions\n",
      "Date                                    \n",
      "2007-06-20 10:10:00       0          0.0\n",
      "2007-06-20 10:20:00       0          0.0\n",
      "2007-06-20 10:30:00       0          0.0\n",
      "2007-06-20 10:40:00       0          0.0\n",
      "2007-06-20 10:50:00       1          0.0\n",
      "...                     ...          ...\n",
      "2022-05-26 12:10:00       1          0.0\n",
      "2022-05-26 12:20:00       0          0.0\n",
      "2022-05-26 12:30:00       0          0.0\n",
      "2022-05-26 12:40:00       1          0.0\n",
      "2022-05-26 12:50:00       1          0.0\n",
      "\n",
      "[149767 rows x 2 columns]\n"
     ]
    }
   ],
   "source": [
    "print(predictions)"
   ]
  },
  {
   "cell_type": "code",
   "execution_count": 1812,
   "metadata": {},
   "outputs": [
    {
     "data": {
      "text/plain": [
       "0.0    149767\n",
       "Name: Predictions, dtype: int64"
      ]
     },
     "execution_count": 1812,
     "metadata": {},
     "output_type": "execute_result"
    }
   ],
   "source": [
    "predictions[\"Predictions\"].value_counts()"
   ]
  },
  {
   "cell_type": "code",
   "execution_count": 1813,
   "metadata": {},
   "outputs": [
    {
     "name": "stderr",
     "output_type": "stream",
     "text": [
      "c:\\Users\\SHSIEH\\Documents\\ProjectsFuture\\ML\\project-walkthroughs\\stock\\stock_env\\lib\\site-packages\\sklearn\\metrics\\_classification.py:1327: UndefinedMetricWarning: Precision is ill-defined and being set to 0.0 due to no predicted samples. Use `zero_division` parameter to control this behavior.\n",
      "  _warn_prf(average, modifier, msg_start, len(result))\n"
     ]
    },
    {
     "data": {
      "text/plain": [
       "0.0"
      ]
     },
     "execution_count": 1813,
     "metadata": {},
     "output_type": "execute_result"
    }
   ],
   "source": [
    "precision_score(predictions[\"Target\"], predictions[\"Predictions\"])"
   ]
  },
  {
   "cell_type": "code",
   "execution_count": 1814,
   "metadata": {},
   "outputs": [],
   "source": [
    "import pickle\n",
    "pickle.dump(model, open(f\"{symbol}\", 'wb'))"
   ]
  },
  {
   "cell_type": "code",
   "execution_count": 1815,
   "metadata": {},
   "outputs": [],
   "source": [
    "predictions.to_csv(f\"{symbol}.csv\")"
   ]
  },
  {
   "cell_type": "code",
   "execution_count": 1816,
   "metadata": {},
   "outputs": [
    {
     "data": {
      "text/html": [
       "<div>\n",
       "<style scoped>\n",
       "    .dataframe tbody tr th:only-of-type {\n",
       "        vertical-align: middle;\n",
       "    }\n",
       "\n",
       "    .dataframe tbody tr th {\n",
       "        vertical-align: top;\n",
       "    }\n",
       "\n",
       "    .dataframe thead th {\n",
       "        text-align: right;\n",
       "    }\n",
       "</style>\n",
       "<table border=\"1\" class=\"dataframe\">\n",
       "  <thead>\n",
       "    <tr style=\"text-align: right;\">\n",
       "      <th></th>\n",
       "      <th>OutPerform</th>\n",
       "      <th>Target</th>\n",
       "      <th>Hour</th>\n",
       "      <th>OutPerform5</th>\n",
       "      <th>StockReturn5</th>\n",
       "      <th>OutPerform10</th>\n",
       "      <th>StockReturn10</th>\n",
       "      <th>OutPerform20</th>\n",
       "      <th>StockReturn20</th>\n",
       "      <th>OutPerform40</th>\n",
       "      <th>...</th>\n",
       "      <th>OutPerform640</th>\n",
       "      <th>StockReturn640</th>\n",
       "      <th>OutPerform1280</th>\n",
       "      <th>StockReturn1280</th>\n",
       "      <th>OutPerform2560</th>\n",
       "      <th>StockReturn2560</th>\n",
       "      <th>OutPerform5120</th>\n",
       "      <th>StockReturn5120</th>\n",
       "      <th>OutPerform10240</th>\n",
       "      <th>StockReturn10240</th>\n",
       "    </tr>\n",
       "    <tr>\n",
       "      <th>Date</th>\n",
       "      <th></th>\n",
       "      <th></th>\n",
       "      <th></th>\n",
       "      <th></th>\n",
       "      <th></th>\n",
       "      <th></th>\n",
       "      <th></th>\n",
       "      <th></th>\n",
       "      <th></th>\n",
       "      <th></th>\n",
       "      <th></th>\n",
       "      <th></th>\n",
       "      <th></th>\n",
       "      <th></th>\n",
       "      <th></th>\n",
       "      <th></th>\n",
       "      <th></th>\n",
       "      <th></th>\n",
       "      <th></th>\n",
       "      <th></th>\n",
       "      <th></th>\n",
       "    </tr>\n",
       "  </thead>\n",
       "  <tbody>\n",
       "    <tr>\n",
       "      <th>2002-06-19 08:20:00</th>\n",
       "      <td>0.005349</td>\n",
       "      <td>1</td>\n",
       "      <td>8.0</td>\n",
       "      <td>0.003586</td>\n",
       "      <td>0.007911</td>\n",
       "      <td>0.002981</td>\n",
       "      <td>0.008703</td>\n",
       "      <td>0.006007</td>\n",
       "      <td>0.009503</td>\n",
       "      <td>0.003916</td>\n",
       "      <td>...</td>\n",
       "      <td>-0.026190</td>\n",
       "      <td>0.014152</td>\n",
       "      <td>-0.033997</td>\n",
       "      <td>-0.036914</td>\n",
       "      <td>-0.235327</td>\n",
       "      <td>-0.278392</td>\n",
       "      <td>-0.213992</td>\n",
       "      <td>-0.261537</td>\n",
       "      <td>-0.236137</td>\n",
       "      <td>-0.290124</td>\n",
       "    </tr>\n",
       "    <tr>\n",
       "      <th>2002-06-19 08:30:00</th>\n",
       "      <td>0.001935</td>\n",
       "      <td>1</td>\n",
       "      <td>8.0</td>\n",
       "      <td>0.005349</td>\n",
       "      <td>0.007849</td>\n",
       "      <td>0.008935</td>\n",
       "      <td>0.015761</td>\n",
       "      <td>0.009440</td>\n",
       "      <td>0.014183</td>\n",
       "      <td>0.009450</td>\n",
       "      <td>...</td>\n",
       "      <td>-0.018297</td>\n",
       "      <td>0.045792</td>\n",
       "      <td>-0.024634</td>\n",
       "      <td>-0.023805</td>\n",
       "      <td>-0.227808</td>\n",
       "      <td>-0.269965</td>\n",
       "      <td>-0.216812</td>\n",
       "      <td>-0.263045</td>\n",
       "      <td>-0.243088</td>\n",
       "      <td>-0.297979</td>\n",
       "    </tr>\n",
       "    <tr>\n",
       "      <th>2002-06-19 08:40:00</th>\n",
       "      <td>-0.008046</td>\n",
       "      <td>0</td>\n",
       "      <td>8.0</td>\n",
       "      <td>0.001935</td>\n",
       "      <td>0.006231</td>\n",
       "      <td>0.007283</td>\n",
       "      <td>0.014080</td>\n",
       "      <td>0.010264</td>\n",
       "      <td>0.022783</td>\n",
       "      <td>0.013714</td>\n",
       "      <td>...</td>\n",
       "      <td>-0.014667</td>\n",
       "      <td>0.038213</td>\n",
       "      <td>-0.017778</td>\n",
       "      <td>-0.010022</td>\n",
       "      <td>-0.228102</td>\n",
       "      <td>-0.266626</td>\n",
       "      <td>-0.216036</td>\n",
       "      <td>-0.257973</td>\n",
       "      <td>-0.232149</td>\n",
       "      <td>-0.284570</td>\n",
       "    </tr>\n",
       "    <tr>\n",
       "      <th>2002-06-19 08:50:00</th>\n",
       "      <td>0.002801</td>\n",
       "      <td>1</td>\n",
       "      <td>8.0</td>\n",
       "      <td>-0.008046</td>\n",
       "      <td>-0.009288</td>\n",
       "      <td>-0.006112</td>\n",
       "      <td>-0.003057</td>\n",
       "      <td>0.002823</td>\n",
       "      <td>0.012703</td>\n",
       "      <td>0.004315</td>\n",
       "      <td>...</td>\n",
       "      <td>-0.030148</td>\n",
       "      <td>0.019310</td>\n",
       "      <td>-0.017325</td>\n",
       "      <td>-0.007894</td>\n",
       "      <td>-0.235579</td>\n",
       "      <td>-0.277068</td>\n",
       "      <td>-0.224508</td>\n",
       "      <td>-0.266104</td>\n",
       "      <td>-0.232574</td>\n",
       "      <td>-0.286627</td>\n",
       "    </tr>\n",
       "    <tr>\n",
       "      <th>2002-06-19 09:00:00</th>\n",
       "      <td>-0.004117</td>\n",
       "      <td>0</td>\n",
       "      <td>8.0</td>\n",
       "      <td>0.002801</td>\n",
       "      <td>0.003906</td>\n",
       "      <td>-0.005245</td>\n",
       "      <td>-0.005382</td>\n",
       "      <td>0.002038</td>\n",
       "      <td>0.008698</td>\n",
       "      <td>0.008045</td>\n",
       "      <td>...</td>\n",
       "      <td>-0.022525</td>\n",
       "      <td>0.030359</td>\n",
       "      <td>-0.007793</td>\n",
       "      <td>0.005250</td>\n",
       "      <td>-0.231003</td>\n",
       "      <td>-0.270857</td>\n",
       "      <td>-0.222256</td>\n",
       "      <td>-0.263935</td>\n",
       "      <td>-0.229604</td>\n",
       "      <td>-0.282161</td>\n",
       "    </tr>\n",
       "    <tr>\n",
       "      <th>...</th>\n",
       "      <td>...</td>\n",
       "      <td>...</td>\n",
       "      <td>...</td>\n",
       "      <td>...</td>\n",
       "      <td>...</td>\n",
       "      <td>...</td>\n",
       "      <td>...</td>\n",
       "      <td>...</td>\n",
       "      <td>...</td>\n",
       "      <td>...</td>\n",
       "      <td>...</td>\n",
       "      <td>...</td>\n",
       "      <td>...</td>\n",
       "      <td>...</td>\n",
       "      <td>...</td>\n",
       "      <td>...</td>\n",
       "      <td>...</td>\n",
       "      <td>...</td>\n",
       "      <td>...</td>\n",
       "      <td>...</td>\n",
       "      <td>...</td>\n",
       "    </tr>\n",
       "    <tr>\n",
       "      <th>2022-05-26 12:10:00</th>\n",
       "      <td>0.000613</td>\n",
       "      <td>1</td>\n",
       "      <td>12.0</td>\n",
       "      <td>-0.001923</td>\n",
       "      <td>-0.002750</td>\n",
       "      <td>-0.002336</td>\n",
       "      <td>-0.002980</td>\n",
       "      <td>0.002196</td>\n",
       "      <td>0.000238</td>\n",
       "      <td>-0.000620</td>\n",
       "      <td>...</td>\n",
       "      <td>0.012160</td>\n",
       "      <td>0.037421</td>\n",
       "      <td>-0.020211</td>\n",
       "      <td>0.004203</td>\n",
       "      <td>-0.001583</td>\n",
       "      <td>0.008330</td>\n",
       "      <td>-0.025262</td>\n",
       "      <td>-0.097197</td>\n",
       "      <td>-0.006073</td>\n",
       "      <td>-0.011306</td>\n",
       "    </tr>\n",
       "    <tr>\n",
       "      <th>2022-05-26 12:20:00</th>\n",
       "      <td>-0.000412</td>\n",
       "      <td>0</td>\n",
       "      <td>12.0</td>\n",
       "      <td>0.000613</td>\n",
       "      <td>0.000919</td>\n",
       "      <td>-0.001311</td>\n",
       "      <td>-0.001831</td>\n",
       "      <td>0.000972</td>\n",
       "      <td>0.000697</td>\n",
       "      <td>0.000574</td>\n",
       "      <td>...</td>\n",
       "      <td>0.012732</td>\n",
       "      <td>0.040249</td>\n",
       "      <td>-0.017691</td>\n",
       "      <td>0.006275</td>\n",
       "      <td>-0.002253</td>\n",
       "      <td>0.009018</td>\n",
       "      <td>-0.023379</td>\n",
       "      <td>-0.095035</td>\n",
       "      <td>-0.003080</td>\n",
       "      <td>-0.009039</td>\n",
       "    </tr>\n",
       "    <tr>\n",
       "      <th>2022-05-26 12:30:00</th>\n",
       "      <td>-0.000537</td>\n",
       "      <td>0</td>\n",
       "      <td>12.0</td>\n",
       "      <td>-0.000412</td>\n",
       "      <td>-0.001607</td>\n",
       "      <td>0.000201</td>\n",
       "      <td>-0.000688</td>\n",
       "      <td>-0.002136</td>\n",
       "      <td>-0.003668</td>\n",
       "      <td>0.002474</td>\n",
       "      <td>...</td>\n",
       "      <td>0.012208</td>\n",
       "      <td>0.037208</td>\n",
       "      <td>-0.017109</td>\n",
       "      <td>0.005130</td>\n",
       "      <td>-0.002207</td>\n",
       "      <td>0.008797</td>\n",
       "      <td>-0.025205</td>\n",
       "      <td>-0.099337</td>\n",
       "      <td>-0.003464</td>\n",
       "      <td>-0.011771</td>\n",
       "    </tr>\n",
       "    <tr>\n",
       "      <th>2022-05-26 12:40:00</th>\n",
       "      <td>0.000138</td>\n",
       "      <td>1</td>\n",
       "      <td>12.0</td>\n",
       "      <td>-0.000537</td>\n",
       "      <td>0.000690</td>\n",
       "      <td>-0.000949</td>\n",
       "      <td>-0.000917</td>\n",
       "      <td>-0.002260</td>\n",
       "      <td>-0.002748</td>\n",
       "      <td>0.001370</td>\n",
       "      <td>...</td>\n",
       "      <td>0.011629</td>\n",
       "      <td>0.036943</td>\n",
       "      <td>-0.016288</td>\n",
       "      <td>0.010439</td>\n",
       "      <td>-0.000798</td>\n",
       "      <td>0.010875</td>\n",
       "      <td>-0.024479</td>\n",
       "      <td>-0.096787</td>\n",
       "      <td>-0.002596</td>\n",
       "      <td>-0.008160</td>\n",
       "    </tr>\n",
       "    <tr>\n",
       "      <th>2022-05-26 12:50:00</th>\n",
       "      <td>0.001101</td>\n",
       "      <td>1</td>\n",
       "      <td>12.0</td>\n",
       "      <td>0.000138</td>\n",
       "      <td>0.001609</td>\n",
       "      <td>-0.000399</td>\n",
       "      <td>0.002299</td>\n",
       "      <td>-0.000199</td>\n",
       "      <td>0.001611</td>\n",
       "      <td>0.001997</td>\n",
       "      <td>...</td>\n",
       "      <td>0.012225</td>\n",
       "      <td>0.038790</td>\n",
       "      <td>-0.013979</td>\n",
       "      <td>0.013904</td>\n",
       "      <td>-0.001987</td>\n",
       "      <td>0.010167</td>\n",
       "      <td>-0.025051</td>\n",
       "      <td>-0.096627</td>\n",
       "      <td>-0.003541</td>\n",
       "      <td>-0.007453</td>\n",
       "    </tr>\n",
       "  </tbody>\n",
       "</table>\n",
       "<p>199767 rows × 27 columns</p>\n",
       "</div>"
      ],
      "text/plain": [
       "                     OutPerform  Target  Hour  OutPerform5  StockReturn5  \\\n",
       "Date                                                                       \n",
       "2002-06-19 08:20:00    0.005349       1   8.0     0.003586      0.007911   \n",
       "2002-06-19 08:30:00    0.001935       1   8.0     0.005349      0.007849   \n",
       "2002-06-19 08:40:00   -0.008046       0   8.0     0.001935      0.006231   \n",
       "2002-06-19 08:50:00    0.002801       1   8.0    -0.008046     -0.009288   \n",
       "2002-06-19 09:00:00   -0.004117       0   8.0     0.002801      0.003906   \n",
       "...                         ...     ...   ...          ...           ...   \n",
       "2022-05-26 12:10:00    0.000613       1  12.0    -0.001923     -0.002750   \n",
       "2022-05-26 12:20:00   -0.000412       0  12.0     0.000613      0.000919   \n",
       "2022-05-26 12:30:00   -0.000537       0  12.0    -0.000412     -0.001607   \n",
       "2022-05-26 12:40:00    0.000138       1  12.0    -0.000537      0.000690   \n",
       "2022-05-26 12:50:00    0.001101       1  12.0     0.000138      0.001609   \n",
       "\n",
       "                     OutPerform10  StockReturn10  OutPerform20  StockReturn20  \\\n",
       "Date                                                                            \n",
       "2002-06-19 08:20:00      0.002981       0.008703      0.006007       0.009503   \n",
       "2002-06-19 08:30:00      0.008935       0.015761      0.009440       0.014183   \n",
       "2002-06-19 08:40:00      0.007283       0.014080      0.010264       0.022783   \n",
       "2002-06-19 08:50:00     -0.006112      -0.003057      0.002823       0.012703   \n",
       "2002-06-19 09:00:00     -0.005245      -0.005382      0.002038       0.008698   \n",
       "...                           ...            ...           ...            ...   \n",
       "2022-05-26 12:10:00     -0.002336      -0.002980      0.002196       0.000238   \n",
       "2022-05-26 12:20:00     -0.001311      -0.001831      0.000972       0.000697   \n",
       "2022-05-26 12:30:00      0.000201      -0.000688     -0.002136      -0.003668   \n",
       "2022-05-26 12:40:00     -0.000949      -0.000917     -0.002260      -0.002748   \n",
       "2022-05-26 12:50:00     -0.000399       0.002299     -0.000199       0.001611   \n",
       "\n",
       "                     OutPerform40  ...  OutPerform640  StockReturn640  \\\n",
       "Date                               ...                                  \n",
       "2002-06-19 08:20:00      0.003916  ...      -0.026190        0.014152   \n",
       "2002-06-19 08:30:00      0.009450  ...      -0.018297        0.045792   \n",
       "2002-06-19 08:40:00      0.013714  ...      -0.014667        0.038213   \n",
       "2002-06-19 08:50:00      0.004315  ...      -0.030148        0.019310   \n",
       "2002-06-19 09:00:00      0.008045  ...      -0.022525        0.030359   \n",
       "...                           ...  ...            ...             ...   \n",
       "2022-05-26 12:10:00     -0.000620  ...       0.012160        0.037421   \n",
       "2022-05-26 12:20:00      0.000574  ...       0.012732        0.040249   \n",
       "2022-05-26 12:30:00      0.002474  ...       0.012208        0.037208   \n",
       "2022-05-26 12:40:00      0.001370  ...       0.011629        0.036943   \n",
       "2022-05-26 12:50:00      0.001997  ...       0.012225        0.038790   \n",
       "\n",
       "                     OutPerform1280  StockReturn1280  OutPerform2560  \\\n",
       "Date                                                                   \n",
       "2002-06-19 08:20:00       -0.033997        -0.036914       -0.235327   \n",
       "2002-06-19 08:30:00       -0.024634        -0.023805       -0.227808   \n",
       "2002-06-19 08:40:00       -0.017778        -0.010022       -0.228102   \n",
       "2002-06-19 08:50:00       -0.017325        -0.007894       -0.235579   \n",
       "2002-06-19 09:00:00       -0.007793         0.005250       -0.231003   \n",
       "...                             ...              ...             ...   \n",
       "2022-05-26 12:10:00       -0.020211         0.004203       -0.001583   \n",
       "2022-05-26 12:20:00       -0.017691         0.006275       -0.002253   \n",
       "2022-05-26 12:30:00       -0.017109         0.005130       -0.002207   \n",
       "2022-05-26 12:40:00       -0.016288         0.010439       -0.000798   \n",
       "2022-05-26 12:50:00       -0.013979         0.013904       -0.001987   \n",
       "\n",
       "                     StockReturn2560  OutPerform5120  StockReturn5120  \\\n",
       "Date                                                                    \n",
       "2002-06-19 08:20:00        -0.278392       -0.213992        -0.261537   \n",
       "2002-06-19 08:30:00        -0.269965       -0.216812        -0.263045   \n",
       "2002-06-19 08:40:00        -0.266626       -0.216036        -0.257973   \n",
       "2002-06-19 08:50:00        -0.277068       -0.224508        -0.266104   \n",
       "2002-06-19 09:00:00        -0.270857       -0.222256        -0.263935   \n",
       "...                              ...             ...              ...   \n",
       "2022-05-26 12:10:00         0.008330       -0.025262        -0.097197   \n",
       "2022-05-26 12:20:00         0.009018       -0.023379        -0.095035   \n",
       "2022-05-26 12:30:00         0.008797       -0.025205        -0.099337   \n",
       "2022-05-26 12:40:00         0.010875       -0.024479        -0.096787   \n",
       "2022-05-26 12:50:00         0.010167       -0.025051        -0.096627   \n",
       "\n",
       "                     OutPerform10240  StockReturn10240  \n",
       "Date                                                    \n",
       "2002-06-19 08:20:00        -0.236137         -0.290124  \n",
       "2002-06-19 08:30:00        -0.243088         -0.297979  \n",
       "2002-06-19 08:40:00        -0.232149         -0.284570  \n",
       "2002-06-19 08:50:00        -0.232574         -0.286627  \n",
       "2002-06-19 09:00:00        -0.229604         -0.282161  \n",
       "...                              ...               ...  \n",
       "2022-05-26 12:10:00        -0.006073         -0.011306  \n",
       "2022-05-26 12:20:00        -0.003080         -0.009039  \n",
       "2022-05-26 12:30:00        -0.003464         -0.011771  \n",
       "2022-05-26 12:40:00        -0.002596         -0.008160  \n",
       "2022-05-26 12:50:00        -0.003541         -0.007453  \n",
       "\n",
       "[199767 rows x 27 columns]"
      ]
     },
     "execution_count": 1816,
     "metadata": {},
     "output_type": "execute_result"
    }
   ],
   "source": [
    "data"
   ]
  },
  {
   "cell_type": "code",
   "execution_count": 1817,
   "metadata": {},
   "outputs": [],
   "source": [
    "tempData = data[['OutPerform']].copy()\n",
    "# tempPredictions = predictions.copy()\n"
   ]
  },
  {
   "cell_type": "code",
   "execution_count": 1818,
   "metadata": {},
   "outputs": [],
   "source": [
    "result1 = pd.merge(tempData, predictions, left_index=True, right_index=True)"
   ]
  },
  {
   "cell_type": "code",
   "execution_count": 1819,
   "metadata": {},
   "outputs": [],
   "source": [
    "from datetime import datetime\n",
    "result1['year'] = result1.index.strftime('%Y')"
   ]
  },
  {
   "cell_type": "code",
   "execution_count": 1820,
   "metadata": {},
   "outputs": [
    {
     "data": {
      "text/html": [
       "<div>\n",
       "<style scoped>\n",
       "    .dataframe tbody tr th:only-of-type {\n",
       "        vertical-align: middle;\n",
       "    }\n",
       "\n",
       "    .dataframe tbody tr th {\n",
       "        vertical-align: top;\n",
       "    }\n",
       "\n",
       "    .dataframe thead th {\n",
       "        text-align: right;\n",
       "    }\n",
       "</style>\n",
       "<table border=\"1\" class=\"dataframe\">\n",
       "  <thead>\n",
       "    <tr style=\"text-align: right;\">\n",
       "      <th></th>\n",
       "      <th>OutPerform</th>\n",
       "      <th>Target</th>\n",
       "      <th>Predictions</th>\n",
       "      <th>year</th>\n",
       "    </tr>\n",
       "    <tr>\n",
       "      <th>Date</th>\n",
       "      <th></th>\n",
       "      <th></th>\n",
       "      <th></th>\n",
       "      <th></th>\n",
       "    </tr>\n",
       "  </thead>\n",
       "  <tbody>\n",
       "  </tbody>\n",
       "</table>\n",
       "</div>"
      ],
      "text/plain": [
       "Empty DataFrame\n",
       "Columns: [OutPerform, Target, Predictions, year]\n",
       "Index: []"
      ]
     },
     "execution_count": 1820,
     "metadata": {},
     "output_type": "execute_result"
    }
   ],
   "source": [
    "result1.loc[result1['Predictions'] == 1]"
   ]
  },
  {
   "cell_type": "code",
   "execution_count": 1821,
   "metadata": {},
   "outputs": [
    {
     "name": "stdout",
     "output_type": "stream",
     "text": [
      "      OutPerform  Target  Predictions\n",
      "year                                 \n",
      "2007    0.177948    2655          0.0\n",
      "2008    0.014015    5036          0.0\n",
      "2009    0.084687    4900          0.0\n",
      "2010   -0.099505    4926          0.0\n",
      "2011    0.092382    5032          0.0\n",
      "2012   -0.226368    4922          0.0\n",
      "2013   -0.008616    4938          0.0\n",
      "2014    0.289332    5026          0.0\n",
      "2015    0.005311    4933          0.0\n",
      "2016   -0.055808    4978          0.0\n",
      "2017    0.040500    4923          0.0\n",
      "2018    0.143729    5039          0.0\n",
      "2019    0.086677    5078          0.0\n",
      "2020   -0.180838    4968          0.0\n",
      "2021   -0.082974    4976          0.0\n",
      "2022   -0.039471    1989          0.0\n"
     ]
    }
   ],
   "source": [
    "resultsum = result1.groupby('year').sum()\n",
    "resultmean = result1.groupby('year').mean()\n",
    "print(resultsum)\n"
   ]
  },
  {
   "cell_type": "code",
   "execution_count": 1822,
   "metadata": {},
   "outputs": [
    {
     "name": "stdout",
     "output_type": "stream",
     "text": [
      "        OutPerform    Target  Predictions\n",
      "year                                     \n",
      "2007  3.357501e-05  0.500943          0.0\n",
      "2008  1.393131e-06  0.500596          0.0\n",
      "2009  8.433237e-06  0.487951          0.0\n",
      "2010 -9.890131e-06  0.489613          0.0\n",
      "2011  9.183102e-06  0.500199          0.0\n",
      "2012 -2.276433e-05  0.494972          0.0\n",
      "2013 -8.609054e-07  0.493405          0.0\n",
      "2014  2.887262e-05  0.501547          0.0\n",
      "2015  5.287400e-07  0.491139          0.0\n",
      "2016 -5.546415e-06  0.494733          0.0\n",
      "2017  4.048364e-06  0.492103          0.0\n",
      "2018  1.439307e-05  0.504606          0.0\n",
      "2019  8.645270e-06  0.506483          0.0\n",
      "2020 -1.794028e-05  0.492857          0.0\n",
      "2021 -8.246323e-06  0.494534          0.0\n",
      "2022 -9.850564e-06  0.496381          0.0\n"
     ]
    }
   ],
   "source": [
    "print(resultmean)"
   ]
  }
 ],
 "metadata": {
  "interpreter": {
   "hash": "4223721b935e787d1a81dca878f9f2d2b750048c9eff3ca6a507cac59c6a2e97"
  },
  "kernelspec": {
   "display_name": "Python 3.10.1 ('stock_env': venv)",
   "language": "python",
   "name": "python3"
  },
  "language_info": {
   "codemirror_mode": {
    "name": "ipython",
    "version": 3
   },
   "file_extension": ".py",
   "mimetype": "text/x-python",
   "name": "python",
   "nbconvert_exporter": "python",
   "pygments_lexer": "ipython3",
   "version": "3.10.1"
  },
  "orig_nbformat": 4
 },
 "nbformat": 4,
 "nbformat_minor": 2
}
