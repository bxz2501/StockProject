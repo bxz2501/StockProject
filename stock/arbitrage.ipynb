{
 "cells": [
  {
   "cell_type": "code",
   "execution_count": 1461,
   "metadata": {},
   "outputs": [
    {
     "name": "stderr",
     "output_type": "stream",
     "text": [
      "c:\\Users\\SHSIEH\\Documents\\ProjectsFuture\\ML\\project-walkthroughs\\stock\\stock_env\\lib\\site-packages\\pandas\\io\\sql.py:761: UserWarning: pandas only support SQLAlchemy connectable(engine/connection) ordatabase string URI or sqlite3 DBAPI2 connectionother DBAPI2 objects are not tested, please consider using SQLAlchemy\n",
      "  warnings.warn(\n"
     ]
    }
   ],
   "source": [
    "import pyodbc\n",
    "import pandas as pd\n",
    "\n",
    "conn = pyodbc.connect(\n",
    "    \"DRIVER={SQL Server};SERVER=lenovo-desktop;DATABASE=Qihuo;UID=samtsql;PWD=F(W}q:TsyK,7^+>`P28e79s#Uc5n\")\n",
    "query = \"\"\"select m1.date as 'Date', m1.[Close] as 'Market', m2.[close] as 'Stock'  from MinuteQuote m1\n",
    "inner join MinuteQuote m2 on m1.Date = m2.date\n",
    "where m1.Date > '2020-04-08 01:20:00' and m1.Contract = 'ym' and m2.Contract = 'msft'\n",
    "order by m1.date\"\"\"\n",
    "df = pd.read_sql(query, conn)\n",
    "df.set_index('Date', inplace=True)\n"
   ]
  },
  {
   "cell_type": "code",
   "execution_count": 1462,
   "metadata": {},
   "outputs": [],
   "source": [
    "df[\"StockReturn\"] = df.rolling(2).apply(lambda x: x.iloc[1] / x.iloc[0] - 1)[\"Stock\"]\n",
    "df[\"MarketReturn\"] = df.rolling(2).apply(lambda x: x.iloc[1] / x.iloc[0] - 1)[\"Market\"]\n",
    "df[\"OutPerform\"] = df[\"StockReturn\"] - df[\"MarketReturn\"]\n",
    "df[\"Target\"] = (df.apply(lambda x: x > 0)[\"OutPerform\"]).astype(int)\n",
    "\n",
    "# df.plot.line(y=\"OutPerform\", use_index=True)"
   ]
  },
  {
   "cell_type": "code",
   "execution_count": 1463,
   "metadata": {},
   "outputs": [],
   "source": [
    "predictors = []\n",
    "for i in range(12):\n",
    "    df[f'OutPerform{pow(2,i)*5}'] = df['OutPerform'].rolling(pow(2,i)).sum()\n",
    "    predictors.append(f'OutPerform{pow(2,i)*5}')\n",
    "    df[f'StockReturn{pow(2,i)*5}'] = df['StockReturn'].rolling(pow(2,i)).sum()\n",
    "    predictors.append(f'StockReturn{pow(2,i)*5}')"
   ]
  },
  {
   "cell_type": "code",
   "execution_count": 1464,
   "metadata": {},
   "outputs": [],
   "source": [
    "prev = df.copy()\n",
    "prev = prev.shift(1)\n",
    "data = df[[\"OutPerform\",\"Target\"]]\n"
   ]
  },
  {
   "cell_type": "code",
   "execution_count": 1465,
   "metadata": {},
   "outputs": [],
   "source": [
    "data = data.join(prev[predictors])\n",
    "data = data.copy().dropna()\n"
   ]
  },
  {
   "cell_type": "code",
   "execution_count": 1466,
   "metadata": {},
   "outputs": [],
   "source": [
    "from sklearn.ensemble import RandomForestClassifier\n",
    "import numpy as np\n",
    "from sklearn.metrics import precision_score\n",
    "\n",
    "model = RandomForestClassifier(n_estimators=100, min_samples_split=1200, random_state=1)\n"
   ]
  },
  {
   "cell_type": "code",
   "execution_count": 1467,
   "metadata": {},
   "outputs": [],
   "source": [
    "def predict(train, test, predictors, model):\n",
    "    model.fit(train[predictors], train[\"Target\"])\n",
    "    preds = model.predict(test[predictors])\n",
    "    preds = pd.Series(preds, index=test.index, name=\"Predictions\")\n",
    "    combined = pd.concat([test[\"Target\"], preds], axis=1)\n",
    "    return combined"
   ]
  },
  {
   "cell_type": "code",
   "execution_count": 1468,
   "metadata": {},
   "outputs": [],
   "source": [
    "def backtest(data, model, predictors, start=50000, step=1000):\n",
    "    all_predictions = []\n",
    "    loop = 0\n",
    "    for i in range(start, data.shape[0], step):\n",
    "        train = data.iloc[loop * step:i].copy()\n",
    "        test = data.iloc[i:(i+step)].copy()\n",
    "        predictions = predict(train, test, predictors, model)\n",
    "        all_predictions.append(predictions)\n",
    "        loop = 0\n",
    "\n",
    "    return pd.concat(all_predictions)\n"
   ]
  },
  {
   "cell_type": "code",
   "execution_count": 1469,
   "metadata": {},
   "outputs": [
    {
     "data": {
      "text/plain": [
       "40312"
      ]
     },
     "execution_count": 1469,
     "metadata": {},
     "output_type": "execute_result"
    }
   ],
   "source": [
    "data.shape[0]"
   ]
  },
  {
   "cell_type": "code",
   "execution_count": 1470,
   "metadata": {},
   "outputs": [],
   "source": [
    "predictions = backtest(data, model, predictors)"
   ]
  },
  {
   "cell_type": "code",
   "execution_count": 1471,
   "metadata": {},
   "outputs": [
    {
     "name": "stdout",
     "output_type": "stream",
     "text": [
      "                     Target  Predictions\n",
      "Date                                    \n",
      "2022-05-19 12:55:00       1            1\n",
      "2022-05-20 06:30:00       0            1\n",
      "2022-05-20 06:35:00       0            0\n",
      "2022-05-20 06:40:00       0            1\n",
      "2022-05-20 06:45:00       0            1\n",
      "...                     ...          ...\n",
      "2022-05-25 12:30:00       0            1\n",
      "2022-05-25 12:35:00       0            1\n",
      "2022-05-25 12:40:00       0            1\n",
      "2022-05-25 12:45:00       1            0\n",
      "2022-05-25 12:50:00       0            0\n",
      "\n",
      "[312 rows x 2 columns]\n"
     ]
    }
   ],
   "source": [
    "print(predictions)"
   ]
  },
  {
   "cell_type": "code",
   "execution_count": 1472,
   "metadata": {},
   "outputs": [
    {
     "data": {
      "text/plain": [
       "1    183\n",
       "0    129\n",
       "Name: Predictions, dtype: int64"
      ]
     },
     "execution_count": 1472,
     "metadata": {},
     "output_type": "execute_result"
    }
   ],
   "source": [
    "predictions[\"Predictions\"].value_counts()"
   ]
  },
  {
   "cell_type": "code",
   "execution_count": 1473,
   "metadata": {},
   "outputs": [
    {
     "data": {
      "text/plain": [
       "0.5136612021857924"
      ]
     },
     "execution_count": 1473,
     "metadata": {},
     "output_type": "execute_result"
    }
   ],
   "source": [
    "precision_score(predictions[\"Target\"], predictions[\"Predictions\"])"
   ]
  },
  {
   "cell_type": "code",
   "execution_count": 1474,
   "metadata": {},
   "outputs": [
    {
     "data": {
      "text/plain": [
       "Date\n",
       "2022-05-19 12:55:00    1\n",
       "2022-05-20 06:30:00    0\n",
       "2022-05-20 06:35:00    0\n",
       "2022-05-20 06:40:00    0\n",
       "2022-05-20 06:45:00    0\n",
       "                      ..\n",
       "2022-05-25 12:30:00    0\n",
       "2022-05-25 12:35:00    0\n",
       "2022-05-25 12:40:00    0\n",
       "2022-05-25 12:45:00    1\n",
       "2022-05-25 12:50:00    0\n",
       "Name: Target, Length: 312, dtype: int32"
      ]
     },
     "execution_count": 1474,
     "metadata": {},
     "output_type": "execute_result"
    }
   ],
   "source": [
    "predictions[\"Target\"]"
   ]
  }
 ],
 "metadata": {
  "interpreter": {
   "hash": "4223721b935e787d1a81dca878f9f2d2b750048c9eff3ca6a507cac59c6a2e97"
  },
  "kernelspec": {
   "display_name": "Python 3.10.1 ('stock_env': venv)",
   "language": "python",
   "name": "python3"
  },
  "language_info": {
   "codemirror_mode": {
    "name": "ipython",
    "version": 3
   },
   "file_extension": ".py",
   "mimetype": "text/x-python",
   "name": "python",
   "nbconvert_exporter": "python",
   "pygments_lexer": "ipython3",
   "version": "3.10.1"
  },
  "orig_nbformat": 4
 },
 "nbformat": 4,
 "nbformat_minor": 2
}
