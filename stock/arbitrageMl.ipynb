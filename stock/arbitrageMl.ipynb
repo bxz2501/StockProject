{
 "cells": [
  {
   "cell_type": "code",
   "execution_count": 418,
   "metadata": {},
   "outputs": [],
   "source": [
    "\n",
    "import pyodbc\n",
    "import pandas as pd\n",
    "from sklearn.ensemble import RandomForestClassifier\n",
    "import numpy as np\n",
    "from sklearn.metrics import precision_score\n",
    "import pickle\n",
    "from datetime import datetime\n",
    "import warnings\n",
    "conn = pyodbc.connect(\n",
    "    \"DRIVER={SQL Server};SERVER=lenovo-desktop;DATABASE=Qihuo;UID=samtsql;PWD=F(W}q:TsyK,7^+>`P28e79s#Uc5n\")\n",
    "\n",
    "\n",
    "def getData(symbol):\n",
    "    query = f\"\"\"select top 2059 m1.date as 'Date',DATEPART(hour, m1.Date) AS 'Hour', m1.[Close] as 'Market', m2.[close] as 'Stock'  from MinuteQuote m1\n",
    "    inner join MinuteQuote m2 on m1.Date = m2.date\n",
    "    where m1.Date > getdate() - 45 and m1.Contract = 'ym' and m2.Contract = '{symbol}'\n",
    "    order by m1.date desc\"\"\"\n",
    "\n",
    "    with warnings.catch_warnings():\n",
    "        warnings.simplefilter('ignore', UserWarning)\n",
    "        df = pd.read_sql(query, conn)\n",
    "        df = df.iloc[::-1]\n",
    "        df.set_index('Date', inplace=True)\n",
    "        return df\n"
   ]
  },
  {
   "cell_type": "code",
   "execution_count": 419,
   "metadata": {},
   "outputs": [],
   "source": [
    "from enum import Enum\n",
    "class ToTrade(Enum):\n",
    "    OpenLong = 1\n",
    "    OpenShort = 2\n",
    "    Close = 3\n",
    "    CloseLong = 4\n",
    "    CloseShort = 5\n",
    "    "
   ]
  },
  {
   "cell_type": "code",
   "execution_count": 420,
   "metadata": {},
   "outputs": [],
   "source": [
    "def getCurrentPosition(symbol):\n",
    "    query = f\"\"\"select * from ArbitrageMLTrade\n",
    "                where AccountName = 'xieie181' and Symbol1 = '{symbol}' and Active = 1\"\"\"\n",
    "\n",
    "    with warnings.catch_warnings():\n",
    "        warnings.simplefilter('ignore', UserWarning)\n",
    "        df = pd.read_sql(query, conn)\n",
    "        if df.empty:\n",
    "            return 0\n",
    "        else:\n",
    "            return df['Position'][0]\n"
   ]
  },
  {
   "cell_type": "code",
   "execution_count": 421,
   "metadata": {},
   "outputs": [],
   "source": [
    "def OpenTrade(symbol, marketPrice, stockPrice, position):\n",
    "    share2 = 1.0\n",
    "    share1 = round((marketPrice * 5 / stockPrice) / 100, 0) * 100\n",
    "    \n",
    "    query = f\"\"\"INSERT INTO [dbo].[ArbitrageMLTrade]\n",
    "           ([AccountName]\n",
    "           ,[SecurityType1]\n",
    "           ,[SecurityType2]\n",
    "           ,[Symbol1]\n",
    "           ,[Symbol2]\n",
    "           ,[Position]\n",
    "           ,[Share1]\n",
    "           ,[Share2]\n",
    "           ,[EnterPrice1]\n",
    "           ,[EnterPrice2]\n",
    "           ,[ExitPrice1]\n",
    "           ,[ExitPrice2]\n",
    "           ,[EnterTime]\n",
    "           ,[ExitTime]\n",
    "           ,[Active]\n",
    "           ,[CreatedOn]\n",
    "           ,[ModifiedOn])\n",
    "     VALUES\n",
    "           ('xieie181'\n",
    "           ,'Stock'\n",
    "           ,'Future'\n",
    "           ,'{symbol}'\n",
    "           ,'YM'\n",
    "           ,{position}\n",
    "           ,{share1}\n",
    "           ,{share2}\n",
    "           ,{stockPrice}\n",
    "           ,{marketPrice}\n",
    "           ,null\n",
    "           ,null\n",
    "           ,getdate()\n",
    "           ,null\n",
    "           ,1\n",
    "           ,getdate()\n",
    "           ,getdate())\"\"\"\n",
    "\n",
    "    with warnings.catch_warnings():\n",
    "        warnings.simplefilter('ignore', UserWarning)\n",
    "        cursor = conn.cursor()\n",
    "        cursor.execute(query)\n",
    "        conn.commit()\n"
   ]
  },
  {
   "cell_type": "code",
   "execution_count": 422,
   "metadata": {},
   "outputs": [],
   "source": [
    "def CloseTrade(symbol):\n",
    "    query = f\"\"\"UPDATE [dbo].[ArbitrageMLTrade]\n",
    "           SET Active = 0, ExitTime = GETDATE(), ModifiedOn = GETDATE() WHERE Symbol1 = '{symbol}' AND Active = 1\"\"\"\n",
    "\n",
    "    with warnings.catch_warnings():\n",
    "        warnings.simplefilter('ignore', UserWarning)\n",
    "        cursor = conn.cursor()\n",
    "        cursor.execute(query)\n",
    "        conn.commit()"
   ]
  },
  {
   "cell_type": "code",
   "execution_count": 423,
   "metadata": {},
   "outputs": [],
   "source": [
    "\n",
    "def transformData(df):\n",
    "    df[f'StockReturn'] = df[\"Stock\"] / df[\"Stock\"].shift(1) - 1\n",
    "    df[f'MarketReturn'] = df[\"Market\"] / df[\"Market\"].shift(1) - 1\n",
    "    df[f\"OutPerform\"] = df['StockReturn'] - df['MarketReturn']\n",
    "    df[\"Target\"] = (df.apply(lambda x: x > 0)[\"OutPerform\"]).astype(int)\n"
   ]
  },
  {
   "cell_type": "code",
   "execution_count": 424,
   "metadata": {},
   "outputs": [],
   "source": [
    "def getPredictors(df):\n",
    "    predictors = ['Hour']\n",
    "    for i in range(12):\n",
    "        df[f'OutPerform{pow(2,i)*5}'] = df['OutPerform'].rolling(pow(2,i)).sum()\n",
    "        predictors.append(f'OutPerform{pow(2,i)*5}')\n",
    "        df[f'StockReturn{pow(2,i)*5}'] = df['StockReturn'].rolling(pow(2,i)).sum()\n",
    "        predictors.append(f'StockReturn{pow(2,i)*5}')\n",
    "    return predictors\n"
   ]
  },
  {
   "cell_type": "code",
   "execution_count": 425,
   "metadata": {},
   "outputs": [],
   "source": [
    "def getMLdata(df, predictors):\n",
    "    df = df[df.index.minute % 30 == 0]\n",
    "    return df.iloc[-1:]"
   ]
  },
  {
   "cell_type": "code",
   "execution_count": 426,
   "metadata": {},
   "outputs": [],
   "source": [
    "def predict(test, predictors, model):\n",
    "    preds = model.predict_proba(test[predictors])[:, 1]\n",
    "    preds = pd.Series(preds, index=test.index, name=\"Predictions\")\n",
    "    combined = pd.concat([test[\"Target\"], preds], axis=1)\n",
    "    return combined\n"
   ]
  },
  {
   "cell_type": "code",
   "execution_count": 427,
   "metadata": {},
   "outputs": [],
   "source": [
    "def processResult(currentPosition, predictions):\n",
    "    prediction = predictions[len(predictions) - 1]\n",
    "\n",
    "    if currentPosition == 0:\n",
    "        if prediction > .57:\n",
    "            return ToTrade.OpenLong\n",
    "        elif prediction < .43:\n",
    "            return ToTrade.OpenShort\n",
    "\n",
    "    if currentPosition == 1:\n",
    "        if prediction < .43:\n",
    "            return ToTrade.CloseShort\n",
    "        elif prediction < .50:\n",
    "            return ToTrade.Close\n",
    "\n",
    "    if currentPosition == -1:\n",
    "        if prediction > .57:\n",
    "            return ToTrade.CloseLong\n",
    "        elif prediction > .50:\n",
    "            return ToTrade.Close\n"
   ]
  },
  {
   "cell_type": "code",
   "execution_count": 428,
   "metadata": {},
   "outputs": [
    {
     "name": "stdout",
     "output_type": "stream",
     "text": [
      "CPU times: total: 31.2 ms\n",
      "Wall time: 63.1 ms\n"
     ]
    }
   ],
   "source": [
    "%%time\n",
    "import sys\n",
    "symbols = [\n",
    "    # 'CVX',\n",
    "    # 'HON',\n",
    "    # 'CRM',\n",
    "    # 'UNH',\n",
    "    # 'CSCO',\n",
    "    # 'WMT',\n",
    "    # 'AXP',\n",
    "    # 'JPM',\n",
    "    # 'MCD',\n",
    "    # 'HD',\n",
    "    # 'AMGN',\n",
    "    # 'V',\n",
    "    # 'INTC',\n",
    "    # 'WBA',\n",
    "    # 'GS',\n",
    "    # 'JNJ',\n",
    "    # 'PG',\n",
    "    # 'AAPL',\n",
    "    # 'DIS',\n",
    "    # 'MMM',\n",
    "    # 'MRK',\n",
    "    # 'MSFT',\n",
    "    # 'TRV',\n",
    "    # 'VZ',\n",
    "    # 'IBM',\n",
    "    # 'CAT',\n",
    "    'NKE']\n",
    "for s in symbols:\n",
    "    df = getData(s)\n",
    "    transformData(df)\n",
    "    predictors = getPredictors(df)\n",
    "    data = getMLdata(df, predictors)\n",
    "    # with open(f\"Model/{s}\", 'rb') as f:\n",
    "    #     model = pickle.load(f)\n",
    "    #     predictions = model.predict_proba(data[predictors])[:, 1]\n",
    "    #     print(predictions)\n",
    "    #     sys.stdout.flush()\n",
    "    #     currentPosition = getCurrentPosition(s)\n",
    "    #     totrade = processResult(currentPosition, predictions)\n",
    "    #     if totrade == ToTrade.OpenLong:\n",
    "    #         OpenTrade(s, df['Market'][len(df) - 1], df['Stock'][len(df) - 1], 1)\n",
    "    #     elif totrade == ToTrade.OpenShort:     \n",
    "    #         OpenTrade(s, df['Market'][len(df) - 1], df['Stock'][len(df) - 1], -1)\n",
    "    #     elif totrade == ToTrade.Close:\n",
    "    #         CloseTrade(s)   \n",
    "    #     elif totrade == ToTrade.CloseLong:\n",
    "    #         CloseTrade(s)\n",
    "    #         OpenTrade(s, df['Market'][len(df) - 1], df['Stock'][len(df) - 1], 1)  \n",
    "    #     elif totrade == ToTrade.CloseShort:  \n",
    "    #         CloseTrade(s)\n",
    "    #         OpenTrade(s, df['Market'][len(df) - 1], df['Stock'][len(df) - 1], -1)       "
   ]
  }
 ],
 "metadata": {
  "interpreter": {
   "hash": "4223721b935e787d1a81dca878f9f2d2b750048c9eff3ca6a507cac59c6a2e97"
  },
  "kernelspec": {
   "display_name": "Python 3.10.1 ('stock_env': venv)",
   "language": "python",
   "name": "python3"
  },
  "language_info": {
   "codemirror_mode": {
    "name": "ipython",
    "version": 3
   },
   "file_extension": ".py",
   "mimetype": "text/x-python",
   "name": "python",
   "nbconvert_exporter": "python",
   "pygments_lexer": "ipython3",
   "version": "3.10.5"
  },
  "orig_nbformat": 4
 },
 "nbformat": 4,
 "nbformat_minor": 2
}
