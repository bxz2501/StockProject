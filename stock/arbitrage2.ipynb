{
 "cells": [
  {
   "cell_type": "code",
   "execution_count": 17,
   "metadata": {},
   "outputs": [],
   "source": [
    "import pyodbc\n",
    "import pandas as pd\n",
    "from sklearn.ensemble import RandomForestClassifier\n",
    "import numpy as np\n",
    "from sklearn.metrics import precision_score\n",
    "import pickle\n",
    "from datetime import datetime\n",
    "import warnings\n",
    "\n",
    "def getData(symbol):\n",
    "    conn = pyodbc.connect(\n",
    "        \"DRIVER={SQL Server};SERVER=lenovo-desktop;DATABASE=Qihuo;UID=samtsql;PWD=F(W}q:TsyK,7^+>`P28e79s#Uc5n\")\n",
    "    query = f\"\"\"select m1.date as 'Date',DATEPART(hour, m1.Date) AS 'Hour', m1.[Close] as 'Market', m2.[close] as 'Stock'  from MinuteQuote m1\n",
    "    inner join MinuteQuote m2 on m1.Date = m2.date\n",
    "    where m1.Date > '2002-04-08 01:20:00' and m1.Contract = 'ym' and m2.Contract = '{symbol}'\n",
    "    and (DATEPART(minute, m1.Date) % 30 = 0)\n",
    "    order by m1.date\"\"\"\n",
    "\n",
    "    with warnings.catch_warnings():\n",
    "        warnings.simplefilter('ignore', UserWarning)\n",
    "        df = pd.read_sql(query, conn)\n",
    "        df.set_index('Date', inplace=True)\n",
    "        return df\n",
    "\n",
    " \n"
   ]
  },
  {
   "cell_type": "code",
   "execution_count": 18,
   "metadata": {},
   "outputs": [],
   "source": [
    "def transformData(df):\n",
    "    df[\"StockReturn\"] = df.rolling(2).apply(lambda x: x.iloc[1] / x.iloc[0] - 1)[\"Stock\"]\n",
    "    df[\"MarketReturn\"] = df.rolling(2).apply(lambda x: x.iloc[1] / x.iloc[0] - 1)[\"Market\"]\n",
    "    df[\"OutPerform\"] = df[\"StockReturn\"] - df[\"MarketReturn\"]\n",
    "    df[\"Target\"] = (df.apply(lambda x: x > 0)[\"OutPerform\"]).astype(int)\n",
    "\n"
   ]
  },
  {
   "cell_type": "code",
   "execution_count": 19,
   "metadata": {},
   "outputs": [],
   "source": [
    "def getPredictors(df):\n",
    "    predictors = ['Hour']\n",
    "    for i in range(12):\n",
    "        df[f'OutPerform{pow(2,i)*5}'] = df['OutPerform'].rolling(pow(2,i)).sum()\n",
    "        predictors.append(f'OutPerform{pow(2,i)*5}')\n",
    "        df[f'StockReturn{pow(2,i)*5}'] = df['StockReturn'].rolling(pow(2,i)).sum()\n",
    "        predictors.append(f'StockReturn{pow(2,i)*5}')\n",
    "\n",
    "    return predictors    \n"
   ]
  },
  {
   "cell_type": "code",
   "execution_count": 20,
   "metadata": {},
   "outputs": [],
   "source": [
    "def getMLdata(df, predictors):\n",
    "    prev = df.copy()\n",
    "    prev = prev.shift(1)\n",
    "    data = df[[\"OutPerform\",\"Target\"]]\n",
    "    data = data.join(prev[predictors])\n",
    "    data = data.copy().dropna()\n",
    "\n",
    "    return data\n"
   ]
  },
  {
   "cell_type": "code",
   "execution_count": 21,
   "metadata": {},
   "outputs": [],
   "source": [
    "def predict(train, test, predictors, model):\n",
    "    model.fit(train[predictors], train[\"Target\"])\n",
    "    preds = model.predict_proba(test[predictors])[:,1]\n",
    "    # preds[preds > .55] = 1\n",
    "    # preds[preds<=.55 and preds > .5] = 0\n",
    "    # preds[preds<=.5] = -1\n",
    "    # print(preds)\n",
    "    preds = pd.Series(preds, index=test.index, name=\"Predictions\")\n",
    "    combined = pd.concat([test[\"Target\"], preds], axis=1)\n",
    "    return combined"
   ]
  },
  {
   "cell_type": "code",
   "execution_count": 22,
   "metadata": {},
   "outputs": [],
   "source": [
    "def backtest(data, model, predictors, start=20000, step=5000):\n",
    "    all_predictions = []\n",
    "    loop = 0\n",
    "    for i in range(start, data.shape[0], step):\n",
    "        train = data.iloc[loop * step:i].copy()\n",
    "        test = data.iloc[i:(i+step)].copy()\n",
    "        predictions = predict(train, test, predictors, model)\n",
    "        all_predictions.append(predictions)\n",
    "        loop = 0 # loop + 1\n",
    "\n",
    "    # print(all_predictions)    \n",
    "    return pd.concat(all_predictions)\n"
   ]
  },
  {
   "cell_type": "code",
   "execution_count": 23,
   "metadata": {},
   "outputs": [],
   "source": [
    "def processResult(data, predictions):\n",
    "    tempData = data[['OutPerform']].copy()\n",
    "    result1 = pd.merge(tempData, predictions, left_index=True, right_index=True)\n",
    "    result1['year'] = result1.index.strftime('%Y')\n",
    "    groupbyyear = result1.groupby('year')\n",
    "    for group_name, df_group in groupbyyear:\n",
    "        count = 0\n",
    "        newtrade = True\n",
    "        gsum = 0\n",
    "        for ind in df_group.index:\n",
    "            if df_group['Predictions'][ind] < .45:\n",
    "                gsum = gsum + df_group['OutPerform'][ind]\n",
    "                if newtrade == True:\n",
    "                    count = count + 1\n",
    "                    newtrade = False\n",
    "            elif df_group['Predictions'][ind] > .45 and df_group['Predictions'][ind] <= .51 and newtrade == False:\n",
    "                gsum = gsum + df_group['OutPerform'][ind]\n",
    "            else:\n",
    "                newtrade = True \n",
    "        # gsum = df_group[df_group['Predictions'] == 1]['OutPerform'].sum()      \n",
    "        if count > 0:  \n",
    "            print('51', s, group_name, gsum/count, count)\n",
    "        count = 0\n",
    "        newtrade = True\n",
    "        gsum = 0\n",
    "        for ind in df_group.index:\n",
    "            if df_group['Predictions'][ind] < .45:\n",
    "                gsum = gsum + df_group['OutPerform'][ind]\n",
    "                if newtrade == True:\n",
    "                    count = count + 1\n",
    "                    newtrade = False\n",
    "            elif df_group['Predictions'][ind] > .45 and df_group['Predictions'][ind] <= .52 and newtrade == False:\n",
    "                gsum = gsum + df_group['OutPerform'][ind]\n",
    "            else:\n",
    "                newtrade = True \n",
    "        # gsum = df_group[df_group['Predictions'] == 1]['OutPerform'].sum()   \n",
    "        if count > 0:       \n",
    "            print('52', s, group_name, gsum/count, count)"
   ]
  },
  {
   "cell_type": "code",
   "execution_count": 24,
   "metadata": {},
   "outputs": [
    {
     "name": "stdout",
     "output_type": "stream",
     "text": [
      "67822\n"
     ]
    },
    {
     "ename": "KeyboardInterrupt",
     "evalue": "",
     "output_type": "error",
     "traceback": [
      "\u001b[1;31m---------------------------------------------------------------------------\u001b[0m",
      "\u001b[1;31mKeyboardInterrupt\u001b[0m                         Traceback (most recent call last)",
      "\u001b[1;32mc:\\Users\\SHSIEH\\Documents\\ProjectsFuture\\ML\\project-walkthroughs\\stock\\arbitrage2.ipynb Cell 8'\u001b[0m in \u001b[0;36m<cell line: 30>\u001b[1;34m()\u001b[0m\n\u001b[0;32m     <a href='vscode-notebook-cell:/c%3A/Users/SHSIEH/Documents/ProjectsFuture/ML/project-walkthroughs/stock/arbitrage2.ipynb#ch0000007?line=29'>30</a>\u001b[0m \u001b[39mfor\u001b[39;00m s \u001b[39min\u001b[39;00m symbols:\n\u001b[0;32m     <a href='vscode-notebook-cell:/c%3A/Users/SHSIEH/Documents/ProjectsFuture/ML/project-walkthroughs/stock/arbitrage2.ipynb#ch0000007?line=30'>31</a>\u001b[0m     df \u001b[39m=\u001b[39m getData(s)\n\u001b[1;32m---> <a href='vscode-notebook-cell:/c%3A/Users/SHSIEH/Documents/ProjectsFuture/ML/project-walkthroughs/stock/arbitrage2.ipynb#ch0000007?line=31'>32</a>\u001b[0m     transformData(df)\n\u001b[0;32m     <a href='vscode-notebook-cell:/c%3A/Users/SHSIEH/Documents/ProjectsFuture/ML/project-walkthroughs/stock/arbitrage2.ipynb#ch0000007?line=32'>33</a>\u001b[0m     predictors \u001b[39m=\u001b[39m getPredictors(df)\n\u001b[0;32m     <a href='vscode-notebook-cell:/c%3A/Users/SHSIEH/Documents/ProjectsFuture/ML/project-walkthroughs/stock/arbitrage2.ipynb#ch0000007?line=33'>34</a>\u001b[0m     data \u001b[39m=\u001b[39m getMLdata(df, predictors)\n",
      "\u001b[1;32mc:\\Users\\SHSIEH\\Documents\\ProjectsFuture\\ML\\project-walkthroughs\\stock\\arbitrage2.ipynb Cell 2'\u001b[0m in \u001b[0;36mtransformData\u001b[1;34m(df)\u001b[0m\n\u001b[0;32m      <a href='vscode-notebook-cell:/c%3A/Users/SHSIEH/Documents/ProjectsFuture/ML/project-walkthroughs/stock/arbitrage2.ipynb#ch0000001?line=0'>1</a>\u001b[0m \u001b[39mdef\u001b[39;00m \u001b[39mtransformData\u001b[39m(df):\n\u001b[1;32m----> <a href='vscode-notebook-cell:/c%3A/Users/SHSIEH/Documents/ProjectsFuture/ML/project-walkthroughs/stock/arbitrage2.ipynb#ch0000001?line=1'>2</a>\u001b[0m     df[\u001b[39m\"\u001b[39m\u001b[39mStockReturn\u001b[39m\u001b[39m\"\u001b[39m] \u001b[39m=\u001b[39m df\u001b[39m.\u001b[39;49mrolling(\u001b[39m2\u001b[39;49m)\u001b[39m.\u001b[39;49mapply(\u001b[39mlambda\u001b[39;49;00m x: x\u001b[39m.\u001b[39;49miloc[\u001b[39m1\u001b[39;49m] \u001b[39m/\u001b[39;49m x\u001b[39m.\u001b[39;49miloc[\u001b[39m0\u001b[39;49m] \u001b[39m-\u001b[39;49m \u001b[39m1\u001b[39;49m)[\u001b[39m\"\u001b[39m\u001b[39mStock\u001b[39m\u001b[39m\"\u001b[39m]\n\u001b[0;32m      <a href='vscode-notebook-cell:/c%3A/Users/SHSIEH/Documents/ProjectsFuture/ML/project-walkthroughs/stock/arbitrage2.ipynb#ch0000001?line=2'>3</a>\u001b[0m     df[\u001b[39m\"\u001b[39m\u001b[39mMarketReturn\u001b[39m\u001b[39m\"\u001b[39m] \u001b[39m=\u001b[39m df\u001b[39m.\u001b[39mrolling(\u001b[39m2\u001b[39m)\u001b[39m.\u001b[39mapply(\u001b[39mlambda\u001b[39;00m x: x\u001b[39m.\u001b[39miloc[\u001b[39m1\u001b[39m] \u001b[39m/\u001b[39m x\u001b[39m.\u001b[39miloc[\u001b[39m0\u001b[39m] \u001b[39m-\u001b[39m \u001b[39m1\u001b[39m)[\u001b[39m\"\u001b[39m\u001b[39mMarket\u001b[39m\u001b[39m\"\u001b[39m]\n\u001b[0;32m      <a href='vscode-notebook-cell:/c%3A/Users/SHSIEH/Documents/ProjectsFuture/ML/project-walkthroughs/stock/arbitrage2.ipynb#ch0000001?line=3'>4</a>\u001b[0m     df[\u001b[39m\"\u001b[39m\u001b[39mOutPerform\u001b[39m\u001b[39m\"\u001b[39m] \u001b[39m=\u001b[39m df[\u001b[39m\"\u001b[39m\u001b[39mStockReturn\u001b[39m\u001b[39m\"\u001b[39m] \u001b[39m-\u001b[39m df[\u001b[39m\"\u001b[39m\u001b[39mMarketReturn\u001b[39m\u001b[39m\"\u001b[39m]\n",
      "File \u001b[1;32mc:\\Users\\SHSIEH\\Documents\\ProjectsFuture\\ML\\project-walkthroughs\\stock\\stock_env\\lib\\site-packages\\pandas\\core\\window\\rolling.py:1843\u001b[0m, in \u001b[0;36mRolling.apply\u001b[1;34m(self, func, raw, engine, engine_kwargs, args, kwargs)\u001b[0m\n\u001b[0;32m   <a href='file:///c%3A/Users/SHSIEH/Documents/ProjectsFuture/ML/project-walkthroughs/stock/stock_env/lib/site-packages/pandas/core/window/rolling.py?line=1821'>1822</a>\u001b[0m \u001b[39m@doc\u001b[39m(\n\u001b[0;32m   <a href='file:///c%3A/Users/SHSIEH/Documents/ProjectsFuture/ML/project-walkthroughs/stock/stock_env/lib/site-packages/pandas/core/window/rolling.py?line=1822'>1823</a>\u001b[0m     template_header,\n\u001b[0;32m   <a href='file:///c%3A/Users/SHSIEH/Documents/ProjectsFuture/ML/project-walkthroughs/stock/stock_env/lib/site-packages/pandas/core/window/rolling.py?line=1823'>1824</a>\u001b[0m     create_section_header(\u001b[39m\"\u001b[39m\u001b[39mParameters\u001b[39m\u001b[39m\"\u001b[39m),\n\u001b[1;32m   (...)\u001b[0m\n\u001b[0;32m   <a href='file:///c%3A/Users/SHSIEH/Documents/ProjectsFuture/ML/project-walkthroughs/stock/stock_env/lib/site-packages/pandas/core/window/rolling.py?line=1840'>1841</a>\u001b[0m     kwargs: \u001b[39mdict\u001b[39m[\u001b[39mstr\u001b[39m, Any] \u001b[39m|\u001b[39m \u001b[39mNone\u001b[39;00m \u001b[39m=\u001b[39m \u001b[39mNone\u001b[39;00m,\n\u001b[0;32m   <a href='file:///c%3A/Users/SHSIEH/Documents/ProjectsFuture/ML/project-walkthroughs/stock/stock_env/lib/site-packages/pandas/core/window/rolling.py?line=1841'>1842</a>\u001b[0m ):\n\u001b[1;32m-> <a href='file:///c%3A/Users/SHSIEH/Documents/ProjectsFuture/ML/project-walkthroughs/stock/stock_env/lib/site-packages/pandas/core/window/rolling.py?line=1842'>1843</a>\u001b[0m     \u001b[39mreturn\u001b[39;00m \u001b[39msuper\u001b[39;49m()\u001b[39m.\u001b[39;49mapply(\n\u001b[0;32m   <a href='file:///c%3A/Users/SHSIEH/Documents/ProjectsFuture/ML/project-walkthroughs/stock/stock_env/lib/site-packages/pandas/core/window/rolling.py?line=1843'>1844</a>\u001b[0m         func,\n\u001b[0;32m   <a href='file:///c%3A/Users/SHSIEH/Documents/ProjectsFuture/ML/project-walkthroughs/stock/stock_env/lib/site-packages/pandas/core/window/rolling.py?line=1844'>1845</a>\u001b[0m         raw\u001b[39m=\u001b[39;49mraw,\n\u001b[0;32m   <a href='file:///c%3A/Users/SHSIEH/Documents/ProjectsFuture/ML/project-walkthroughs/stock/stock_env/lib/site-packages/pandas/core/window/rolling.py?line=1845'>1846</a>\u001b[0m         engine\u001b[39m=\u001b[39;49mengine,\n\u001b[0;32m   <a href='file:///c%3A/Users/SHSIEH/Documents/ProjectsFuture/ML/project-walkthroughs/stock/stock_env/lib/site-packages/pandas/core/window/rolling.py?line=1846'>1847</a>\u001b[0m         engine_kwargs\u001b[39m=\u001b[39;49mengine_kwargs,\n\u001b[0;32m   <a href='file:///c%3A/Users/SHSIEH/Documents/ProjectsFuture/ML/project-walkthroughs/stock/stock_env/lib/site-packages/pandas/core/window/rolling.py?line=1847'>1848</a>\u001b[0m         args\u001b[39m=\u001b[39;49margs,\n\u001b[0;32m   <a href='file:///c%3A/Users/SHSIEH/Documents/ProjectsFuture/ML/project-walkthroughs/stock/stock_env/lib/site-packages/pandas/core/window/rolling.py?line=1848'>1849</a>\u001b[0m         kwargs\u001b[39m=\u001b[39;49mkwargs,\n\u001b[0;32m   <a href='file:///c%3A/Users/SHSIEH/Documents/ProjectsFuture/ML/project-walkthroughs/stock/stock_env/lib/site-packages/pandas/core/window/rolling.py?line=1849'>1850</a>\u001b[0m     )\n",
      "File \u001b[1;32mc:\\Users\\SHSIEH\\Documents\\ProjectsFuture\\ML\\project-walkthroughs\\stock\\stock_env\\lib\\site-packages\\pandas\\core\\window\\rolling.py:1315\u001b[0m, in \u001b[0;36mRollingAndExpandingMixin.apply\u001b[1;34m(self, func, raw, engine, engine_kwargs, args, kwargs)\u001b[0m\n\u001b[0;32m   <a href='file:///c%3A/Users/SHSIEH/Documents/ProjectsFuture/ML/project-walkthroughs/stock/stock_env/lib/site-packages/pandas/core/window/rolling.py?line=1311'>1312</a>\u001b[0m \u001b[39melse\u001b[39;00m:\n\u001b[0;32m   <a href='file:///c%3A/Users/SHSIEH/Documents/ProjectsFuture/ML/project-walkthroughs/stock/stock_env/lib/site-packages/pandas/core/window/rolling.py?line=1312'>1313</a>\u001b[0m     \u001b[39mraise\u001b[39;00m \u001b[39mValueError\u001b[39;00m(\u001b[39m\"\u001b[39m\u001b[39mengine must be either \u001b[39m\u001b[39m'\u001b[39m\u001b[39mnumba\u001b[39m\u001b[39m'\u001b[39m\u001b[39m or \u001b[39m\u001b[39m'\u001b[39m\u001b[39mcython\u001b[39m\u001b[39m'\u001b[39m\u001b[39m\"\u001b[39m)\n\u001b[1;32m-> <a href='file:///c%3A/Users/SHSIEH/Documents/ProjectsFuture/ML/project-walkthroughs/stock/stock_env/lib/site-packages/pandas/core/window/rolling.py?line=1314'>1315</a>\u001b[0m \u001b[39mreturn\u001b[39;00m \u001b[39mself\u001b[39;49m\u001b[39m.\u001b[39;49m_apply(\n\u001b[0;32m   <a href='file:///c%3A/Users/SHSIEH/Documents/ProjectsFuture/ML/project-walkthroughs/stock/stock_env/lib/site-packages/pandas/core/window/rolling.py?line=1315'>1316</a>\u001b[0m     apply_func,\n\u001b[0;32m   <a href='file:///c%3A/Users/SHSIEH/Documents/ProjectsFuture/ML/project-walkthroughs/stock/stock_env/lib/site-packages/pandas/core/window/rolling.py?line=1316'>1317</a>\u001b[0m     numba_cache_key\u001b[39m=\u001b[39;49mnumba_cache_key,\n\u001b[0;32m   <a href='file:///c%3A/Users/SHSIEH/Documents/ProjectsFuture/ML/project-walkthroughs/stock/stock_env/lib/site-packages/pandas/core/window/rolling.py?line=1317'>1318</a>\u001b[0m     numba_args\u001b[39m=\u001b[39;49mnumba_args,\n\u001b[0;32m   <a href='file:///c%3A/Users/SHSIEH/Documents/ProjectsFuture/ML/project-walkthroughs/stock/stock_env/lib/site-packages/pandas/core/window/rolling.py?line=1318'>1319</a>\u001b[0m )\n",
      "File \u001b[1;32mc:\\Users\\SHSIEH\\Documents\\ProjectsFuture\\ML\\project-walkthroughs\\stock\\stock_env\\lib\\site-packages\\pandas\\core\\window\\rolling.py:590\u001b[0m, in \u001b[0;36mBaseWindow._apply\u001b[1;34m(self, func, name, numba_cache_key, numba_args, **kwargs)\u001b[0m\n\u001b[0;32m    <a href='file:///c%3A/Users/SHSIEH/Documents/ProjectsFuture/ML/project-walkthroughs/stock/stock_env/lib/site-packages/pandas/core/window/rolling.py?line=586'>587</a>\u001b[0m     \u001b[39mreturn\u001b[39;00m result\n\u001b[0;32m    <a href='file:///c%3A/Users/SHSIEH/Documents/ProjectsFuture/ML/project-walkthroughs/stock/stock_env/lib/site-packages/pandas/core/window/rolling.py?line=588'>589</a>\u001b[0m \u001b[39mif\u001b[39;00m \u001b[39mself\u001b[39m\u001b[39m.\u001b[39mmethod \u001b[39m==\u001b[39m \u001b[39m\"\u001b[39m\u001b[39msingle\u001b[39m\u001b[39m\"\u001b[39m:\n\u001b[1;32m--> <a href='file:///c%3A/Users/SHSIEH/Documents/ProjectsFuture/ML/project-walkthroughs/stock/stock_env/lib/site-packages/pandas/core/window/rolling.py?line=589'>590</a>\u001b[0m     \u001b[39mreturn\u001b[39;00m \u001b[39mself\u001b[39;49m\u001b[39m.\u001b[39;49m_apply_blockwise(homogeneous_func, name)\n\u001b[0;32m    <a href='file:///c%3A/Users/SHSIEH/Documents/ProjectsFuture/ML/project-walkthroughs/stock/stock_env/lib/site-packages/pandas/core/window/rolling.py?line=590'>591</a>\u001b[0m \u001b[39melse\u001b[39;00m:\n\u001b[0;32m    <a href='file:///c%3A/Users/SHSIEH/Documents/ProjectsFuture/ML/project-walkthroughs/stock/stock_env/lib/site-packages/pandas/core/window/rolling.py?line=591'>592</a>\u001b[0m     \u001b[39mreturn\u001b[39;00m \u001b[39mself\u001b[39m\u001b[39m.\u001b[39m_apply_tablewise(homogeneous_func, name)\n",
      "File \u001b[1;32mc:\\Users\\SHSIEH\\Documents\\ProjectsFuture\\ML\\project-walkthroughs\\stock\\stock_env\\lib\\site-packages\\pandas\\core\\window\\rolling.py:462\u001b[0m, in \u001b[0;36mBaseWindow._apply_blockwise\u001b[1;34m(self, homogeneous_func, name)\u001b[0m\n\u001b[0;32m    <a href='file:///c%3A/Users/SHSIEH/Documents/ProjectsFuture/ML/project-walkthroughs/stock/stock_env/lib/site-packages/pandas/core/window/rolling.py?line=458'>459</a>\u001b[0m \u001b[39mfor\u001b[39;00m i, arr \u001b[39min\u001b[39;00m \u001b[39menumerate\u001b[39m(obj\u001b[39m.\u001b[39m_iter_column_arrays()):\n\u001b[0;32m    <a href='file:///c%3A/Users/SHSIEH/Documents/ProjectsFuture/ML/project-walkthroughs/stock/stock_env/lib/site-packages/pandas/core/window/rolling.py?line=459'>460</a>\u001b[0m     \u001b[39m# GH#42736 operate column-wise instead of block-wise\u001b[39;00m\n\u001b[0;32m    <a href='file:///c%3A/Users/SHSIEH/Documents/ProjectsFuture/ML/project-walkthroughs/stock/stock_env/lib/site-packages/pandas/core/window/rolling.py?line=460'>461</a>\u001b[0m     \u001b[39mtry\u001b[39;00m:\n\u001b[1;32m--> <a href='file:///c%3A/Users/SHSIEH/Documents/ProjectsFuture/ML/project-walkthroughs/stock/stock_env/lib/site-packages/pandas/core/window/rolling.py?line=461'>462</a>\u001b[0m         res \u001b[39m=\u001b[39m hfunc(arr)\n\u001b[0;32m    <a href='file:///c%3A/Users/SHSIEH/Documents/ProjectsFuture/ML/project-walkthroughs/stock/stock_env/lib/site-packages/pandas/core/window/rolling.py?line=462'>463</a>\u001b[0m     \u001b[39mexcept\u001b[39;00m (\u001b[39mTypeError\u001b[39;00m, \u001b[39mNotImplementedError\u001b[39;00m):\n\u001b[0;32m    <a href='file:///c%3A/Users/SHSIEH/Documents/ProjectsFuture/ML/project-walkthroughs/stock/stock_env/lib/site-packages/pandas/core/window/rolling.py?line=463'>464</a>\u001b[0m         \u001b[39mpass\u001b[39;00m\n",
      "File \u001b[1;32mc:\\Users\\SHSIEH\\Documents\\ProjectsFuture\\ML\\project-walkthroughs\\stock\\stock_env\\lib\\site-packages\\pandas\\core\\window\\rolling.py:452\u001b[0m, in \u001b[0;36mBaseWindow._apply_blockwise.<locals>.hfunc\u001b[1;34m(values)\u001b[0m\n\u001b[0;32m    <a href='file:///c%3A/Users/SHSIEH/Documents/ProjectsFuture/ML/project-walkthroughs/stock/stock_env/lib/site-packages/pandas/core/window/rolling.py?line=449'>450</a>\u001b[0m \u001b[39mdef\u001b[39;00m \u001b[39mhfunc\u001b[39m(values: ArrayLike) \u001b[39m-\u001b[39m\u001b[39m>\u001b[39m ArrayLike:\n\u001b[0;32m    <a href='file:///c%3A/Users/SHSIEH/Documents/ProjectsFuture/ML/project-walkthroughs/stock/stock_env/lib/site-packages/pandas/core/window/rolling.py?line=450'>451</a>\u001b[0m     values \u001b[39m=\u001b[39m \u001b[39mself\u001b[39m\u001b[39m.\u001b[39m_prep_values(values)\n\u001b[1;32m--> <a href='file:///c%3A/Users/SHSIEH/Documents/ProjectsFuture/ML/project-walkthroughs/stock/stock_env/lib/site-packages/pandas/core/window/rolling.py?line=451'>452</a>\u001b[0m     \u001b[39mreturn\u001b[39;00m homogeneous_func(values)\n",
      "File \u001b[1;32mc:\\Users\\SHSIEH\\Documents\\ProjectsFuture\\ML\\project-walkthroughs\\stock\\stock_env\\lib\\site-packages\\pandas\\core\\window\\rolling.py:582\u001b[0m, in \u001b[0;36mBaseWindow._apply.<locals>.homogeneous_func\u001b[1;34m(values)\u001b[0m\n\u001b[0;32m    <a href='file:///c%3A/Users/SHSIEH/Documents/ProjectsFuture/ML/project-walkthroughs/stock/stock_env/lib/site-packages/pandas/core/window/rolling.py?line=578'>579</a>\u001b[0m     \u001b[39mreturn\u001b[39;00m func(x, start, end, min_periods, \u001b[39m*\u001b[39mnumba_args)\n\u001b[0;32m    <a href='file:///c%3A/Users/SHSIEH/Documents/ProjectsFuture/ML/project-walkthroughs/stock/stock_env/lib/site-packages/pandas/core/window/rolling.py?line=580'>581</a>\u001b[0m \u001b[39mwith\u001b[39;00m np\u001b[39m.\u001b[39merrstate(\u001b[39mall\u001b[39m\u001b[39m=\u001b[39m\u001b[39m\"\u001b[39m\u001b[39mignore\u001b[39m\u001b[39m\"\u001b[39m):\n\u001b[1;32m--> <a href='file:///c%3A/Users/SHSIEH/Documents/ProjectsFuture/ML/project-walkthroughs/stock/stock_env/lib/site-packages/pandas/core/window/rolling.py?line=581'>582</a>\u001b[0m     result \u001b[39m=\u001b[39m calc(values)\n\u001b[0;32m    <a href='file:///c%3A/Users/SHSIEH/Documents/ProjectsFuture/ML/project-walkthroughs/stock/stock_env/lib/site-packages/pandas/core/window/rolling.py?line=583'>584</a>\u001b[0m \u001b[39mif\u001b[39;00m numba_cache_key \u001b[39mis\u001b[39;00m \u001b[39mnot\u001b[39;00m \u001b[39mNone\u001b[39;00m:\n\u001b[0;32m    <a href='file:///c%3A/Users/SHSIEH/Documents/ProjectsFuture/ML/project-walkthroughs/stock/stock_env/lib/site-packages/pandas/core/window/rolling.py?line=584'>585</a>\u001b[0m     NUMBA_FUNC_CACHE[numba_cache_key] \u001b[39m=\u001b[39m func\n",
      "File \u001b[1;32mc:\\Users\\SHSIEH\\Documents\\ProjectsFuture\\ML\\project-walkthroughs\\stock\\stock_env\\lib\\site-packages\\pandas\\core\\window\\rolling.py:579\u001b[0m, in \u001b[0;36mBaseWindow._apply.<locals>.homogeneous_func.<locals>.calc\u001b[1;34m(x)\u001b[0m\n\u001b[0;32m    <a href='file:///c%3A/Users/SHSIEH/Documents/ProjectsFuture/ML/project-walkthroughs/stock/stock_env/lib/site-packages/pandas/core/window/rolling.py?line=570'>571</a>\u001b[0m start, end \u001b[39m=\u001b[39m window_indexer\u001b[39m.\u001b[39mget_window_bounds(\n\u001b[0;32m    <a href='file:///c%3A/Users/SHSIEH/Documents/ProjectsFuture/ML/project-walkthroughs/stock/stock_env/lib/site-packages/pandas/core/window/rolling.py?line=571'>572</a>\u001b[0m     num_values\u001b[39m=\u001b[39m\u001b[39mlen\u001b[39m(x),\n\u001b[0;32m    <a href='file:///c%3A/Users/SHSIEH/Documents/ProjectsFuture/ML/project-walkthroughs/stock/stock_env/lib/site-packages/pandas/core/window/rolling.py?line=572'>573</a>\u001b[0m     min_periods\u001b[39m=\u001b[39mmin_periods,\n\u001b[0;32m    <a href='file:///c%3A/Users/SHSIEH/Documents/ProjectsFuture/ML/project-walkthroughs/stock/stock_env/lib/site-packages/pandas/core/window/rolling.py?line=573'>574</a>\u001b[0m     center\u001b[39m=\u001b[39m\u001b[39mself\u001b[39m\u001b[39m.\u001b[39mcenter,\n\u001b[0;32m    <a href='file:///c%3A/Users/SHSIEH/Documents/ProjectsFuture/ML/project-walkthroughs/stock/stock_env/lib/site-packages/pandas/core/window/rolling.py?line=574'>575</a>\u001b[0m     closed\u001b[39m=\u001b[39m\u001b[39mself\u001b[39m\u001b[39m.\u001b[39mclosed,\n\u001b[0;32m    <a href='file:///c%3A/Users/SHSIEH/Documents/ProjectsFuture/ML/project-walkthroughs/stock/stock_env/lib/site-packages/pandas/core/window/rolling.py?line=575'>576</a>\u001b[0m )\n\u001b[0;32m    <a href='file:///c%3A/Users/SHSIEH/Documents/ProjectsFuture/ML/project-walkthroughs/stock/stock_env/lib/site-packages/pandas/core/window/rolling.py?line=576'>577</a>\u001b[0m \u001b[39mself\u001b[39m\u001b[39m.\u001b[39m_check_window_bounds(start, end, \u001b[39mlen\u001b[39m(x))\n\u001b[1;32m--> <a href='file:///c%3A/Users/SHSIEH/Documents/ProjectsFuture/ML/project-walkthroughs/stock/stock_env/lib/site-packages/pandas/core/window/rolling.py?line=578'>579</a>\u001b[0m \u001b[39mreturn\u001b[39;00m func(x, start, end, min_periods, \u001b[39m*\u001b[39;49mnumba_args)\n",
      "File \u001b[1;32mc:\\Users\\SHSIEH\\Documents\\ProjectsFuture\\ML\\project-walkthroughs\\stock\\stock_env\\lib\\site-packages\\pandas\\core\\window\\rolling.py:1342\u001b[0m, in \u001b[0;36mRollingAndExpandingMixin._generate_cython_apply_func.<locals>.apply_func\u001b[1;34m(values, begin, end, min_periods, raw)\u001b[0m\n\u001b[0;32m   <a href='file:///c%3A/Users/SHSIEH/Documents/ProjectsFuture/ML/project-walkthroughs/stock/stock_env/lib/site-packages/pandas/core/window/rolling.py?line=1338'>1339</a>\u001b[0m \u001b[39mif\u001b[39;00m \u001b[39mnot\u001b[39;00m raw:\n\u001b[0;32m   <a href='file:///c%3A/Users/SHSIEH/Documents/ProjectsFuture/ML/project-walkthroughs/stock/stock_env/lib/site-packages/pandas/core/window/rolling.py?line=1339'>1340</a>\u001b[0m     \u001b[39m# GH 45912\u001b[39;00m\n\u001b[0;32m   <a href='file:///c%3A/Users/SHSIEH/Documents/ProjectsFuture/ML/project-walkthroughs/stock/stock_env/lib/site-packages/pandas/core/window/rolling.py?line=1340'>1341</a>\u001b[0m     values \u001b[39m=\u001b[39m Series(values, index\u001b[39m=\u001b[39m\u001b[39mself\u001b[39m\u001b[39m.\u001b[39m_on)\n\u001b[1;32m-> <a href='file:///c%3A/Users/SHSIEH/Documents/ProjectsFuture/ML/project-walkthroughs/stock/stock_env/lib/site-packages/pandas/core/window/rolling.py?line=1341'>1342</a>\u001b[0m \u001b[39mreturn\u001b[39;00m window_func(values, begin, end, min_periods)\n",
      "File \u001b[1;32mc:\\Users\\SHSIEH\\Documents\\ProjectsFuture\\ML\\project-walkthroughs\\stock\\stock_env\\lib\\site-packages\\pandas\\_libs\\window\\aggregations.pyx:1315\u001b[0m, in \u001b[0;36mpandas._libs.window.aggregations.roll_apply\u001b[1;34m()\u001b[0m\n",
      "File \u001b[1;32mc:\\Users\\SHSIEH\\Documents\\ProjectsFuture\\ML\\project-walkthroughs\\stock\\stock_env\\lib\\site-packages\\pandas\\core\\indexing.py:967\u001b[0m, in \u001b[0;36m_LocationIndexer.__getitem__\u001b[1;34m(self, key)\u001b[0m\n\u001b[0;32m    <a href='file:///c%3A/Users/SHSIEH/Documents/ProjectsFuture/ML/project-walkthroughs/stock/stock_env/lib/site-packages/pandas/core/indexing.py?line=963'>964</a>\u001b[0m axis \u001b[39m=\u001b[39m \u001b[39mself\u001b[39m\u001b[39m.\u001b[39maxis \u001b[39mor\u001b[39;00m \u001b[39m0\u001b[39m\n\u001b[0;32m    <a href='file:///c%3A/Users/SHSIEH/Documents/ProjectsFuture/ML/project-walkthroughs/stock/stock_env/lib/site-packages/pandas/core/indexing.py?line=965'>966</a>\u001b[0m maybe_callable \u001b[39m=\u001b[39m com\u001b[39m.\u001b[39mapply_if_callable(key, \u001b[39mself\u001b[39m\u001b[39m.\u001b[39mobj)\n\u001b[1;32m--> <a href='file:///c%3A/Users/SHSIEH/Documents/ProjectsFuture/ML/project-walkthroughs/stock/stock_env/lib/site-packages/pandas/core/indexing.py?line=966'>967</a>\u001b[0m \u001b[39mreturn\u001b[39;00m \u001b[39mself\u001b[39;49m\u001b[39m.\u001b[39;49m_getitem_axis(maybe_callable, axis\u001b[39m=\u001b[39;49maxis)\n",
      "File \u001b[1;32mc:\\Users\\SHSIEH\\Documents\\ProjectsFuture\\ML\\project-walkthroughs\\stock\\stock_env\\lib\\site-packages\\pandas\\core\\indexing.py:1497\u001b[0m, in \u001b[0;36m_iLocIndexer._getitem_axis\u001b[1;34m(self, key, axis)\u001b[0m\n\u001b[0;32m   <a href='file:///c%3A/Users/SHSIEH/Documents/ProjectsFuture/ML/project-walkthroughs/stock/stock_env/lib/site-packages/pandas/core/indexing.py?line=1490'>1491</a>\u001b[0m     \u001b[39mraise\u001b[39;00m \u001b[39mIndexError\u001b[39;00m(\n\u001b[0;32m   <a href='file:///c%3A/Users/SHSIEH/Documents/ProjectsFuture/ML/project-walkthroughs/stock/stock_env/lib/site-packages/pandas/core/indexing.py?line=1491'>1492</a>\u001b[0m         \u001b[39m\"\u001b[39m\u001b[39mDataFrame indexer is not allowed for .iloc\u001b[39m\u001b[39m\\n\u001b[39;00m\u001b[39m\"\u001b[39m\n\u001b[0;32m   <a href='file:///c%3A/Users/SHSIEH/Documents/ProjectsFuture/ML/project-walkthroughs/stock/stock_env/lib/site-packages/pandas/core/indexing.py?line=1492'>1493</a>\u001b[0m         \u001b[39m\"\u001b[39m\u001b[39mConsider using .loc for automatic alignment.\u001b[39m\u001b[39m\"\u001b[39m\n\u001b[0;32m   <a href='file:///c%3A/Users/SHSIEH/Documents/ProjectsFuture/ML/project-walkthroughs/stock/stock_env/lib/site-packages/pandas/core/indexing.py?line=1493'>1494</a>\u001b[0m     )\n\u001b[0;32m   <a href='file:///c%3A/Users/SHSIEH/Documents/ProjectsFuture/ML/project-walkthroughs/stock/stock_env/lib/site-packages/pandas/core/indexing.py?line=1495'>1496</a>\u001b[0m \u001b[39mif\u001b[39;00m \u001b[39misinstance\u001b[39m(key, \u001b[39mslice\u001b[39m):\n\u001b[1;32m-> <a href='file:///c%3A/Users/SHSIEH/Documents/ProjectsFuture/ML/project-walkthroughs/stock/stock_env/lib/site-packages/pandas/core/indexing.py?line=1496'>1497</a>\u001b[0m     \u001b[39mreturn\u001b[39;00m \u001b[39mself\u001b[39;49m\u001b[39m.\u001b[39;49m_get_slice_axis(key, axis\u001b[39m=\u001b[39;49maxis)\n\u001b[0;32m   <a href='file:///c%3A/Users/SHSIEH/Documents/ProjectsFuture/ML/project-walkthroughs/stock/stock_env/lib/site-packages/pandas/core/indexing.py?line=1498'>1499</a>\u001b[0m \u001b[39mif\u001b[39;00m is_iterator(key):\n\u001b[0;32m   <a href='file:///c%3A/Users/SHSIEH/Documents/ProjectsFuture/ML/project-walkthroughs/stock/stock_env/lib/site-packages/pandas/core/indexing.py?line=1499'>1500</a>\u001b[0m     key \u001b[39m=\u001b[39m \u001b[39mlist\u001b[39m(key)\n",
      "File \u001b[1;32mc:\\Users\\SHSIEH\\Documents\\ProjectsFuture\\ML\\project-walkthroughs\\stock\\stock_env\\lib\\site-packages\\pandas\\core\\indexing.py:1533\u001b[0m, in \u001b[0;36m_iLocIndexer._get_slice_axis\u001b[1;34m(self, slice_obj, axis)\u001b[0m\n\u001b[0;32m   <a href='file:///c%3A/Users/SHSIEH/Documents/ProjectsFuture/ML/project-walkthroughs/stock/stock_env/lib/site-packages/pandas/core/indexing.py?line=1530'>1531</a>\u001b[0m labels \u001b[39m=\u001b[39m obj\u001b[39m.\u001b[39m_get_axis(axis)\n\u001b[0;32m   <a href='file:///c%3A/Users/SHSIEH/Documents/ProjectsFuture/ML/project-walkthroughs/stock/stock_env/lib/site-packages/pandas/core/indexing.py?line=1531'>1532</a>\u001b[0m labels\u001b[39m.\u001b[39m_validate_positional_slice(slice_obj)\n\u001b[1;32m-> <a href='file:///c%3A/Users/SHSIEH/Documents/ProjectsFuture/ML/project-walkthroughs/stock/stock_env/lib/site-packages/pandas/core/indexing.py?line=1532'>1533</a>\u001b[0m \u001b[39mreturn\u001b[39;00m \u001b[39mself\u001b[39;49m\u001b[39m.\u001b[39;49mobj\u001b[39m.\u001b[39;49m_slice(slice_obj, axis\u001b[39m=\u001b[39;49maxis)\n",
      "File \u001b[1;32mc:\\Users\\SHSIEH\\Documents\\ProjectsFuture\\ML\\project-walkthroughs\\stock\\stock_env\\lib\\site-packages\\pandas\\core\\series.py:941\u001b[0m, in \u001b[0;36mSeries._slice\u001b[1;34m(self, slobj, axis)\u001b[0m\n\u001b[0;32m    <a href='file:///c%3A/Users/SHSIEH/Documents/ProjectsFuture/ML/project-walkthroughs/stock/stock_env/lib/site-packages/pandas/core/series.py?line=937'>938</a>\u001b[0m \u001b[39mdef\u001b[39;00m \u001b[39m_slice\u001b[39m(\u001b[39mself\u001b[39m, slobj: \u001b[39mslice\u001b[39m, axis: \u001b[39mint\u001b[39m \u001b[39m=\u001b[39m \u001b[39m0\u001b[39m) \u001b[39m-\u001b[39m\u001b[39m>\u001b[39m Series:\n\u001b[0;32m    <a href='file:///c%3A/Users/SHSIEH/Documents/ProjectsFuture/ML/project-walkthroughs/stock/stock_env/lib/site-packages/pandas/core/series.py?line=938'>939</a>\u001b[0m     \u001b[39m# axis kwarg is retained for compat with NDFrame method\u001b[39;00m\n\u001b[0;32m    <a href='file:///c%3A/Users/SHSIEH/Documents/ProjectsFuture/ML/project-walkthroughs/stock/stock_env/lib/site-packages/pandas/core/series.py?line=939'>940</a>\u001b[0m     \u001b[39m#  _slice is *always* positional\u001b[39;00m\n\u001b[1;32m--> <a href='file:///c%3A/Users/SHSIEH/Documents/ProjectsFuture/ML/project-walkthroughs/stock/stock_env/lib/site-packages/pandas/core/series.py?line=940'>941</a>\u001b[0m     \u001b[39mreturn\u001b[39;00m \u001b[39mself\u001b[39;49m\u001b[39m.\u001b[39;49m_get_values(slobj)\n",
      "File \u001b[1;32mc:\\Users\\SHSIEH\\Documents\\ProjectsFuture\\ML\\project-walkthroughs\\stock\\stock_env\\lib\\site-packages\\pandas\\core\\series.py:1044\u001b[0m, in \u001b[0;36mSeries._get_values\u001b[1;34m(self, indexer)\u001b[0m\n\u001b[0;32m   <a href='file:///c%3A/Users/SHSIEH/Documents/ProjectsFuture/ML/project-walkthroughs/stock/stock_env/lib/site-packages/pandas/core/series.py?line=1041'>1042</a>\u001b[0m \u001b[39mdef\u001b[39;00m \u001b[39m_get_values\u001b[39m(\u001b[39mself\u001b[39m, indexer):\n\u001b[0;32m   <a href='file:///c%3A/Users/SHSIEH/Documents/ProjectsFuture/ML/project-walkthroughs/stock/stock_env/lib/site-packages/pandas/core/series.py?line=1042'>1043</a>\u001b[0m     \u001b[39mtry\u001b[39;00m:\n\u001b[1;32m-> <a href='file:///c%3A/Users/SHSIEH/Documents/ProjectsFuture/ML/project-walkthroughs/stock/stock_env/lib/site-packages/pandas/core/series.py?line=1043'>1044</a>\u001b[0m         new_mgr \u001b[39m=\u001b[39m \u001b[39mself\u001b[39;49m\u001b[39m.\u001b[39;49m_mgr\u001b[39m.\u001b[39;49mgetitem_mgr(indexer)\n\u001b[0;32m   <a href='file:///c%3A/Users/SHSIEH/Documents/ProjectsFuture/ML/project-walkthroughs/stock/stock_env/lib/site-packages/pandas/core/series.py?line=1044'>1045</a>\u001b[0m         \u001b[39mreturn\u001b[39;00m \u001b[39mself\u001b[39m\u001b[39m.\u001b[39m_constructor(new_mgr)\u001b[39m.\u001b[39m__finalize__(\u001b[39mself\u001b[39m)\n\u001b[0;32m   <a href='file:///c%3A/Users/SHSIEH/Documents/ProjectsFuture/ML/project-walkthroughs/stock/stock_env/lib/site-packages/pandas/core/series.py?line=1045'>1046</a>\u001b[0m     \u001b[39mexcept\u001b[39;00m \u001b[39mValueError\u001b[39;00m:\n\u001b[0;32m   <a href='file:///c%3A/Users/SHSIEH/Documents/ProjectsFuture/ML/project-walkthroughs/stock/stock_env/lib/site-packages/pandas/core/series.py?line=1046'>1047</a>\u001b[0m         \u001b[39m# mpl compat if we look up e.g. ser[:, np.newaxis];\u001b[39;00m\n\u001b[0;32m   <a href='file:///c%3A/Users/SHSIEH/Documents/ProjectsFuture/ML/project-walkthroughs/stock/stock_env/lib/site-packages/pandas/core/series.py?line=1047'>1048</a>\u001b[0m         \u001b[39m#  see tests.series.timeseries.test_mpl_compat_hack\u001b[39;00m\n\u001b[0;32m   <a href='file:///c%3A/Users/SHSIEH/Documents/ProjectsFuture/ML/project-walkthroughs/stock/stock_env/lib/site-packages/pandas/core/series.py?line=1048'>1049</a>\u001b[0m         \u001b[39m# the asarray is needed to avoid returning a 2D DatetimeArray\u001b[39;00m\n",
      "File \u001b[1;32mc:\\Users\\SHSIEH\\Documents\\ProjectsFuture\\ML\\project-walkthroughs\\stock\\stock_env\\lib\\site-packages\\pandas\\core\\internals\\managers.py:1817\u001b[0m, in \u001b[0;36mSingleBlockManager.getitem_mgr\u001b[1;34m(self, indexer)\u001b[0m\n\u001b[0;32m   <a href='file:///c%3A/Users/SHSIEH/Documents/ProjectsFuture/ML/project-walkthroughs/stock/stock_env/lib/site-packages/pandas/core/internals/managers.py?line=1813'>1814</a>\u001b[0m bp \u001b[39m=\u001b[39m BlockPlacement(\u001b[39mslice\u001b[39m(\u001b[39m0\u001b[39m, \u001b[39mlen\u001b[39m(array)))\n\u001b[0;32m   <a href='file:///c%3A/Users/SHSIEH/Documents/ProjectsFuture/ML/project-walkthroughs/stock/stock_env/lib/site-packages/pandas/core/internals/managers.py?line=1814'>1815</a>\u001b[0m block \u001b[39m=\u001b[39m \u001b[39mtype\u001b[39m(blk)(array, placement\u001b[39m=\u001b[39mbp, ndim\u001b[39m=\u001b[39m\u001b[39m1\u001b[39m)\n\u001b[1;32m-> <a href='file:///c%3A/Users/SHSIEH/Documents/ProjectsFuture/ML/project-walkthroughs/stock/stock_env/lib/site-packages/pandas/core/internals/managers.py?line=1816'>1817</a>\u001b[0m new_idx \u001b[39m=\u001b[39m \u001b[39mself\u001b[39;49m\u001b[39m.\u001b[39;49mindex[indexer]\n\u001b[0;32m   <a href='file:///c%3A/Users/SHSIEH/Documents/ProjectsFuture/ML/project-walkthroughs/stock/stock_env/lib/site-packages/pandas/core/internals/managers.py?line=1817'>1818</a>\u001b[0m \u001b[39mreturn\u001b[39;00m \u001b[39mtype\u001b[39m(\u001b[39mself\u001b[39m)(block, new_idx)\n",
      "File \u001b[1;32mc:\\Users\\SHSIEH\\Documents\\ProjectsFuture\\ML\\project-walkthroughs\\stock\\stock_env\\lib\\site-packages\\pandas\\core\\indexes\\base.py:5044\u001b[0m, in \u001b[0;36mIndex.__getitem__\u001b[1;34m(self, key)\u001b[0m\n\u001b[0;32m   <a href='file:///c%3A/Users/SHSIEH/Documents/ProjectsFuture/ML/project-walkthroughs/stock/stock_env/lib/site-packages/pandas/core/indexes/base.py?line=5038'>5039</a>\u001b[0m     \u001b[39mreturn\u001b[39;00m getitem(key)\n\u001b[0;32m   <a href='file:///c%3A/Users/SHSIEH/Documents/ProjectsFuture/ML/project-walkthroughs/stock/stock_env/lib/site-packages/pandas/core/indexes/base.py?line=5040'>5041</a>\u001b[0m \u001b[39mif\u001b[39;00m \u001b[39misinstance\u001b[39m(key, \u001b[39mslice\u001b[39m):\n\u001b[0;32m   <a href='file:///c%3A/Users/SHSIEH/Documents/ProjectsFuture/ML/project-walkthroughs/stock/stock_env/lib/site-packages/pandas/core/indexes/base.py?line=5041'>5042</a>\u001b[0m     \u001b[39m# This case is separated from the conditional above to avoid\u001b[39;00m\n\u001b[0;32m   <a href='file:///c%3A/Users/SHSIEH/Documents/ProjectsFuture/ML/project-walkthroughs/stock/stock_env/lib/site-packages/pandas/core/indexes/base.py?line=5042'>5043</a>\u001b[0m     \u001b[39m# pessimization com.is_bool_indexer and ndim checks.\u001b[39;00m\n\u001b[1;32m-> <a href='file:///c%3A/Users/SHSIEH/Documents/ProjectsFuture/ML/project-walkthroughs/stock/stock_env/lib/site-packages/pandas/core/indexes/base.py?line=5043'>5044</a>\u001b[0m     result \u001b[39m=\u001b[39m getitem(key)\n\u001b[0;32m   <a href='file:///c%3A/Users/SHSIEH/Documents/ProjectsFuture/ML/project-walkthroughs/stock/stock_env/lib/site-packages/pandas/core/indexes/base.py?line=5044'>5045</a>\u001b[0m     \u001b[39m# Going through simple_new for performance.\u001b[39;00m\n\u001b[0;32m   <a href='file:///c%3A/Users/SHSIEH/Documents/ProjectsFuture/ML/project-walkthroughs/stock/stock_env/lib/site-packages/pandas/core/indexes/base.py?line=5045'>5046</a>\u001b[0m     \u001b[39mreturn\u001b[39;00m \u001b[39mtype\u001b[39m(\u001b[39mself\u001b[39m)\u001b[39m.\u001b[39m_simple_new(result, name\u001b[39m=\u001b[39m\u001b[39mself\u001b[39m\u001b[39m.\u001b[39m_name)\n",
      "File \u001b[1;32mc:\\Users\\SHSIEH\\Documents\\ProjectsFuture\\ML\\project-walkthroughs\\stock\\stock_env\\lib\\site-packages\\pandas\\core\\arrays\\datetimelike.py:348\u001b[0m, in \u001b[0;36mDatetimeLikeArrayMixin.__getitem__\u001b[1;34m(self, key)\u001b[0m\n\u001b[0;32m    <a href='file:///c%3A/Users/SHSIEH/Documents/ProjectsFuture/ML/project-walkthroughs/stock/stock_env/lib/site-packages/pandas/core/arrays/datetimelike.py?line=344'>345</a>\u001b[0m \u001b[39melse\u001b[39;00m:\n\u001b[0;32m    <a href='file:///c%3A/Users/SHSIEH/Documents/ProjectsFuture/ML/project-walkthroughs/stock/stock_env/lib/site-packages/pandas/core/arrays/datetimelike.py?line=345'>346</a>\u001b[0m     \u001b[39m# At this point we know the result is an array.\u001b[39;00m\n\u001b[0;32m    <a href='file:///c%3A/Users/SHSIEH/Documents/ProjectsFuture/ML/project-walkthroughs/stock/stock_env/lib/site-packages/pandas/core/arrays/datetimelike.py?line=346'>347</a>\u001b[0m     result \u001b[39m=\u001b[39m cast(DatetimeLikeArrayT, result)\n\u001b[1;32m--> <a href='file:///c%3A/Users/SHSIEH/Documents/ProjectsFuture/ML/project-walkthroughs/stock/stock_env/lib/site-packages/pandas/core/arrays/datetimelike.py?line=347'>348</a>\u001b[0m result\u001b[39m.\u001b[39m_freq \u001b[39m=\u001b[39m \u001b[39mself\u001b[39;49m\u001b[39m.\u001b[39;49m_get_getitem_freq(key)\n\u001b[0;32m    <a href='file:///c%3A/Users/SHSIEH/Documents/ProjectsFuture/ML/project-walkthroughs/stock/stock_env/lib/site-packages/pandas/core/arrays/datetimelike.py?line=348'>349</a>\u001b[0m \u001b[39mreturn\u001b[39;00m result\n",
      "File \u001b[1;32mc:\\Users\\SHSIEH\\Documents\\ProjectsFuture\\ML\\project-walkthroughs\\stock\\stock_env\\lib\\site-packages\\pandas\\core\\arrays\\datetimelike.py:355\u001b[0m, in \u001b[0;36mDatetimeLikeArrayMixin._get_getitem_freq\u001b[1;34m(self, key)\u001b[0m\n\u001b[0;32m    <a href='file:///c%3A/Users/SHSIEH/Documents/ProjectsFuture/ML/project-walkthroughs/stock/stock_env/lib/site-packages/pandas/core/arrays/datetimelike.py?line=350'>351</a>\u001b[0m \u001b[39mdef\u001b[39;00m \u001b[39m_get_getitem_freq\u001b[39m(\u001b[39mself\u001b[39m, key) \u001b[39m-\u001b[39m\u001b[39m>\u001b[39m BaseOffset \u001b[39m|\u001b[39m \u001b[39mNone\u001b[39;00m:\n\u001b[0;32m    <a href='file:///c%3A/Users/SHSIEH/Documents/ProjectsFuture/ML/project-walkthroughs/stock/stock_env/lib/site-packages/pandas/core/arrays/datetimelike.py?line=351'>352</a>\u001b[0m     \u001b[39m\"\"\"\u001b[39;00m\n\u001b[0;32m    <a href='file:///c%3A/Users/SHSIEH/Documents/ProjectsFuture/ML/project-walkthroughs/stock/stock_env/lib/site-packages/pandas/core/arrays/datetimelike.py?line=352'>353</a>\u001b[0m \u001b[39m    Find the `freq` attribute to assign to the result of a __getitem__ lookup.\u001b[39;00m\n\u001b[0;32m    <a href='file:///c%3A/Users/SHSIEH/Documents/ProjectsFuture/ML/project-walkthroughs/stock/stock_env/lib/site-packages/pandas/core/arrays/datetimelike.py?line=353'>354</a>\u001b[0m \u001b[39m    \"\"\"\u001b[39;00m\n\u001b[1;32m--> <a href='file:///c%3A/Users/SHSIEH/Documents/ProjectsFuture/ML/project-walkthroughs/stock/stock_env/lib/site-packages/pandas/core/arrays/datetimelike.py?line=354'>355</a>\u001b[0m     is_period \u001b[39m=\u001b[39m is_period_dtype(\u001b[39mself\u001b[39;49m\u001b[39m.\u001b[39;49mdtype)\n\u001b[0;32m    <a href='file:///c%3A/Users/SHSIEH/Documents/ProjectsFuture/ML/project-walkthroughs/stock/stock_env/lib/site-packages/pandas/core/arrays/datetimelike.py?line=355'>356</a>\u001b[0m     \u001b[39mif\u001b[39;00m is_period:\n\u001b[0;32m    <a href='file:///c%3A/Users/SHSIEH/Documents/ProjectsFuture/ML/project-walkthroughs/stock/stock_env/lib/site-packages/pandas/core/arrays/datetimelike.py?line=356'>357</a>\u001b[0m         freq \u001b[39m=\u001b[39m \u001b[39mself\u001b[39m\u001b[39m.\u001b[39mfreq\n",
      "File \u001b[1;32mc:\\Users\\SHSIEH\\Documents\\ProjectsFuture\\ML\\project-walkthroughs\\stock\\stock_env\\lib\\site-packages\\pandas\\core\\dtypes\\common.py:456\u001b[0m, in \u001b[0;36mis_period_dtype\u001b[1;34m(arr_or_dtype)\u001b[0m\n\u001b[0;32m    <a href='file:///c%3A/Users/SHSIEH/Documents/ProjectsFuture/ML/project-walkthroughs/stock/stock_env/lib/site-packages/pandas/core/dtypes/common.py?line=453'>454</a>\u001b[0m \u001b[39mif\u001b[39;00m arr_or_dtype \u001b[39mis\u001b[39;00m \u001b[39mNone\u001b[39;00m:\n\u001b[0;32m    <a href='file:///c%3A/Users/SHSIEH/Documents/ProjectsFuture/ML/project-walkthroughs/stock/stock_env/lib/site-packages/pandas/core/dtypes/common.py?line=454'>455</a>\u001b[0m     \u001b[39mreturn\u001b[39;00m \u001b[39mFalse\u001b[39;00m\n\u001b[1;32m--> <a href='file:///c%3A/Users/SHSIEH/Documents/ProjectsFuture/ML/project-walkthroughs/stock/stock_env/lib/site-packages/pandas/core/dtypes/common.py?line=455'>456</a>\u001b[0m \u001b[39mreturn\u001b[39;00m PeriodDtype\u001b[39m.\u001b[39;49mis_dtype(arr_or_dtype)\n",
      "File \u001b[1;32mc:\\Users\\SHSIEH\\Documents\\ProjectsFuture\\ML\\project-walkthroughs\\stock\\stock_env\\lib\\site-packages\\pandas\\core\\dtypes\\dtypes.py:974\u001b[0m, in \u001b[0;36mPeriodDtype.is_dtype\u001b[1;34m(cls, dtype)\u001b[0m\n\u001b[0;32m    <a href='file:///c%3A/Users/SHSIEH/Documents/ProjectsFuture/ML/project-walkthroughs/stock/stock_env/lib/site-packages/pandas/core/dtypes/dtypes.py?line=971'>972</a>\u001b[0m     \u001b[39melse\u001b[39;00m:\n\u001b[0;32m    <a href='file:///c%3A/Users/SHSIEH/Documents/ProjectsFuture/ML/project-walkthroughs/stock/stock_env/lib/site-packages/pandas/core/dtypes/dtypes.py?line=972'>973</a>\u001b[0m         \u001b[39mreturn\u001b[39;00m \u001b[39mFalse\u001b[39;00m\n\u001b[1;32m--> <a href='file:///c%3A/Users/SHSIEH/Documents/ProjectsFuture/ML/project-walkthroughs/stock/stock_env/lib/site-packages/pandas/core/dtypes/dtypes.py?line=973'>974</a>\u001b[0m \u001b[39mreturn\u001b[39;00m \u001b[39msuper\u001b[39;49m()\u001b[39m.\u001b[39;49mis_dtype(dtype)\n",
      "\u001b[1;31mKeyboardInterrupt\u001b[0m: "
     ]
    }
   ],
   "source": [
    "model = RandomForestClassifier(n_estimators=100, min_samples_split=1200, random_state=1)\n",
    "symbols = [\n",
    "'CVX',\n",
    "'HON',\n",
    "'CRM',\n",
    "'UNH',\n",
    "'CSCO',\n",
    "'WMT',\n",
    "'AXP',\n",
    "'JPM',\n",
    "'MCD',\n",
    "'HD',\n",
    "'AMGN',\n",
    "'V',\n",
    "'INTC',\n",
    "'WBA',\n",
    "'GS',\n",
    "'JNJ',\n",
    "'PG',\n",
    "'AAPL',\n",
    "'DIS',\n",
    "'MMM',\n",
    "'MRK',\n",
    "'MSFT',\n",
    "'TRV',\n",
    "'VZ',\n",
    "'IBM',\n",
    "'CAT',\n",
    "'NKE']\n",
    "for s in symbols:\n",
    "    df = getData(s)\n",
    "    transformData(df)\n",
    "    predictors = getPredictors(df)\n",
    "    data = getMLdata(df, predictors)\n",
    "    predictions = backtest(data, model, predictors)\n",
    "    pickle.dump(model, open(f\"{s}\", 'wb'))\n",
    "    processResult(data, predictions)\n",
    "    # precision_score(predictions[\"Target\"], predictions[\"Predictions\"])\n",
    "    "
   ]
  }
 ],
 "metadata": {
  "interpreter": {
   "hash": "4223721b935e787d1a81dca878f9f2d2b750048c9eff3ca6a507cac59c6a2e97"
  },
  "kernelspec": {
   "display_name": "Python 3.10.1 ('stock_env': venv)",
   "language": "python",
   "name": "python3"
  },
  "language_info": {
   "codemirror_mode": {
    "name": "ipython",
    "version": 3
   },
   "file_extension": ".py",
   "mimetype": "text/x-python",
   "name": "python",
   "nbconvert_exporter": "python",
   "pygments_lexer": "ipython3",
   "version": "3.10.1"
  },
  "orig_nbformat": 4
 },
 "nbformat": 4,
 "nbformat_minor": 2
}
