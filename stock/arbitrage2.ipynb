{
 "cells": [
  {
   "cell_type": "code",
   "execution_count": 130,
   "metadata": {},
   "outputs": [],
   "source": [
    "import pyodbc\n",
    "import pandas as pd\n",
    "from sklearn.ensemble import RandomForestClassifier\n",
    "import numpy as np\n",
    "from sklearn.metrics import precision_score\n",
    "import pickle\n",
    "from datetime import datetime\n",
    "import warnings\n",
    "\n",
    "def getData(symbol):\n",
    "    conn = pyodbc.connect(\n",
    "        \"DRIVER={SQL Server};SERVER=lenovo-desktop;DATABASE=Qihuo;UID=samtsql;PWD=F(W}q:TsyK,7^+>`P28e79s#Uc5n\")\n",
    "    query = f\"\"\"select m1.date as 'Date',DATEPART(hour, m1.Date) AS 'Hour', m1.[Close] as 'Market', m2.[close] as 'Stock'  from MinuteQuote m1\n",
    "    inner join MinuteQuote m2 on m1.Date = m2.date\n",
    "    where m1.Date > '2002-04-08 01:20:00' and m1.Contract = 'ym' and m2.Contract = '{symbol}'\n",
    "    and DATEPART(minute, m1.Date) % 30 = 0\n",
    "    order by m1.date\"\"\"\n",
    "\n",
    "    with warnings.catch_warnings():\n",
    "        warnings.simplefilter('ignore', UserWarning)\n",
    "        df = pd.read_sql(query, conn)\n",
    "        df.set_index('Date', inplace=True)\n",
    "        return df\n",
    "\n",
    " \n"
   ]
  },
  {
   "cell_type": "code",
   "execution_count": 131,
   "metadata": {},
   "outputs": [],
   "source": [
    "def transformData(df):\n",
    "    df[\"StockReturn\"] = df.rolling(2).apply(lambda x: x.iloc[1] / x.iloc[0] - 1)[\"Stock\"]\n",
    "    df[\"MarketReturn\"] = df.rolling(2).apply(lambda x: x.iloc[1] / x.iloc[0] - 1)[\"Market\"]\n",
    "    df[\"OutPerform\"] = df[\"StockReturn\"] - df[\"MarketReturn\"]\n",
    "    df[\"Target\"] = (df.apply(lambda x: x > 0)[\"OutPerform\"]).astype(int)\n",
    "\n"
   ]
  },
  {
   "cell_type": "code",
   "execution_count": 132,
   "metadata": {},
   "outputs": [],
   "source": [
    "def getPredictors(df):\n",
    "    predictors = ['Hour']\n",
    "    for i in range(12):\n",
    "        df[f'OutPerform{pow(2,i)*5}'] = df['OutPerform'].rolling(pow(2,i)).sum()\n",
    "        predictors.append(f'OutPerform{pow(2,i)*5}')\n",
    "        df[f'StockReturn{pow(2,i)*5}'] = df['StockReturn'].rolling(pow(2,i)).sum()\n",
    "        predictors.append(f'StockReturn{pow(2,i)*5}')\n",
    "\n",
    "    return predictors    \n"
   ]
  },
  {
   "cell_type": "code",
   "execution_count": 133,
   "metadata": {},
   "outputs": [],
   "source": [
    "def getMLdata(df, predictors):\n",
    "    prev = df.copy()\n",
    "    prev = prev.shift(1)\n",
    "    data = df[[\"OutPerform\",\"Target\"]]\n",
    "    data = data.join(prev[predictors])\n",
    "    data = data.copy().dropna()\n",
    "\n",
    "    return data\n"
   ]
  },
  {
   "cell_type": "code",
   "execution_count": 134,
   "metadata": {},
   "outputs": [],
   "source": [
    "def predict(train, test, predictors, model):\n",
    "    model.fit(train[predictors], train[\"Target\"])\n",
    "    preds = model.predict(test[predictors])#[:,1]\n",
    "    # preds[preds > .6] = 1\n",
    "    # preds[preds<=.6] = 0\n",
    "    # print(preds)\n",
    "    preds = pd.Series(preds, index=test.index, name=\"Predictions\")\n",
    "    combined = pd.concat([test[\"Target\"], preds], axis=1)\n",
    "    return combined"
   ]
  },
  {
   "cell_type": "code",
   "execution_count": 135,
   "metadata": {},
   "outputs": [],
   "source": [
    "def backtest(data, model, predictors, start=10000, step=1000):\n",
    "    all_predictions = []\n",
    "    loop = 0\n",
    "    for i in range(start, data.shape[0], step):\n",
    "        train = data.iloc[loop * step:i].copy()\n",
    "        test = data.iloc[i:(i+step)].copy()\n",
    "        predictions = predict(train, test, predictors, model)\n",
    "        all_predictions.append(predictions)\n",
    "        loop = 0 # loop + 1\n",
    "\n",
    "    return pd.concat(all_predictions)\n"
   ]
  },
  {
   "cell_type": "code",
   "execution_count": 136,
   "metadata": {},
   "outputs": [],
   "source": [
    "def processResult(data, predictions):\n",
    "    tempData = data[['OutPerform']].copy()\n",
    "    result1 = pd.merge(tempData, predictions, left_index=True, right_index=True)\n",
    "    result1['year'] = result1.index.strftime('%Y')\n",
    "    groupbyyear = result1.groupby('year')\n",
    "    for group_name, df_group in groupbyyear:\n",
    "        count = 0\n",
    "        newtrade = True\n",
    "        for ind in df_group.index:\n",
    "            if df_group['Predictions'][ind] == 1:\n",
    "                if newtrade == True:\n",
    "                    count = count + 1\n",
    "                    newtrade = False\n",
    "            else:\n",
    "                newtrade = True \n",
    "        gsum = df_group[df_group['Predictions'] == 1]['OutPerform'].sum()        \n",
    "        print(s, group_name, gsum/count)"
   ]
  },
  {
   "cell_type": "code",
   "execution_count": 137,
   "metadata": {},
   "outputs": [
    {
     "name": "stdout",
     "output_type": "stream",
     "text": [
      "CVX 2005 -0.00011668314881273993\n",
      "CVX 2006 0.0007807463008526695\n",
      "CVX 2007 0.0010347012032612373\n",
      "CVX 2008 0.001542645415188097\n",
      "CVX 2009 -0.00014809548891228096\n",
      "CVX 2010 0.0003110461217696961\n",
      "CVX 2011 0.0002956006156281807\n",
      "CVX 2012 3.514164571143245e-06\n",
      "CVX 2013 -3.279513046907667e-05\n",
      "CVX 2014 -0.0001801052841125313\n",
      "CVX 2015 -0.000411001218248323\n",
      "CVX 2016 0.00013084138347405365\n",
      "CVX 2017 0.0001522632776302893\n",
      "CVX 2018 0.00012470607175228031\n",
      "CVX 2019 0.00016508382484161055\n",
      "CVX 2020 -3.3043975181140865e-05\n",
      "CVX 2021 0.00026046434856723564\n",
      "CVX 2022 0.0011818175557087524\n"
     ]
    },
    {
     "ename": "KeyboardInterrupt",
     "evalue": "",
     "output_type": "error",
     "traceback": [
      "\u001b[1;31m---------------------------------------------------------------------------\u001b[0m",
      "\u001b[1;31mKeyboardInterrupt\u001b[0m                         Traceback (most recent call last)",
      "\u001b[1;32mc:\\Users\\SHSIEH\\Documents\\ProjectsFuture\\ML\\project-walkthroughs\\stock\\arbitrage2.ipynb Cell 8'\u001b[0m in \u001b[0;36m<cell line: 29>\u001b[1;34m()\u001b[0m\n\u001b[0;32m     <a href='vscode-notebook-cell:/c%3A/Users/SHSIEH/Documents/ProjectsFuture/ML/project-walkthroughs/stock/arbitrage2.ipynb#ch0000006?line=31'>32</a>\u001b[0m predictors \u001b[39m=\u001b[39m getPredictors(df)\n\u001b[0;32m     <a href='vscode-notebook-cell:/c%3A/Users/SHSIEH/Documents/ProjectsFuture/ML/project-walkthroughs/stock/arbitrage2.ipynb#ch0000006?line=32'>33</a>\u001b[0m data \u001b[39m=\u001b[39m getMLdata(df, predictors)\n\u001b[1;32m---> <a href='vscode-notebook-cell:/c%3A/Users/SHSIEH/Documents/ProjectsFuture/ML/project-walkthroughs/stock/arbitrage2.ipynb#ch0000006?line=34'>35</a>\u001b[0m predictions \u001b[39m=\u001b[39m backtest(data, model, predictors)\n\u001b[0;32m     <a href='vscode-notebook-cell:/c%3A/Users/SHSIEH/Documents/ProjectsFuture/ML/project-walkthroughs/stock/arbitrage2.ipynb#ch0000006?line=35'>36</a>\u001b[0m pickle\u001b[39m.\u001b[39mdump(model, \u001b[39mopen\u001b[39m(\u001b[39mf\u001b[39m\u001b[39m\"\u001b[39m\u001b[39m{\u001b[39;00ms\u001b[39m}\u001b[39;00m\u001b[39m\"\u001b[39m, \u001b[39m'\u001b[39m\u001b[39mwb\u001b[39m\u001b[39m'\u001b[39m))\n\u001b[0;32m     <a href='vscode-notebook-cell:/c%3A/Users/SHSIEH/Documents/ProjectsFuture/ML/project-walkthroughs/stock/arbitrage2.ipynb#ch0000006?line=36'>37</a>\u001b[0m processResult(data, predictions)\n",
      "\u001b[1;32mc:\\Users\\SHSIEH\\Documents\\ProjectsFuture\\ML\\project-walkthroughs\\stock\\arbitrage2.ipynb Cell 6'\u001b[0m in \u001b[0;36mbacktest\u001b[1;34m(data, model, predictors, start, step)\u001b[0m\n\u001b[0;32m      <a href='vscode-notebook-cell:/c%3A/Users/SHSIEH/Documents/ProjectsFuture/ML/project-walkthroughs/stock/arbitrage2.ipynb#ch0000005?line=4'>5</a>\u001b[0m train \u001b[39m=\u001b[39m data\u001b[39m.\u001b[39miloc[loop \u001b[39m*\u001b[39m step:i]\u001b[39m.\u001b[39mcopy()\n\u001b[0;32m      <a href='vscode-notebook-cell:/c%3A/Users/SHSIEH/Documents/ProjectsFuture/ML/project-walkthroughs/stock/arbitrage2.ipynb#ch0000005?line=5'>6</a>\u001b[0m test \u001b[39m=\u001b[39m data\u001b[39m.\u001b[39miloc[i:(i\u001b[39m+\u001b[39mstep)]\u001b[39m.\u001b[39mcopy()\n\u001b[1;32m----> <a href='vscode-notebook-cell:/c%3A/Users/SHSIEH/Documents/ProjectsFuture/ML/project-walkthroughs/stock/arbitrage2.ipynb#ch0000005?line=6'>7</a>\u001b[0m predictions \u001b[39m=\u001b[39m predict(train, test, predictors, model)\n\u001b[0;32m      <a href='vscode-notebook-cell:/c%3A/Users/SHSIEH/Documents/ProjectsFuture/ML/project-walkthroughs/stock/arbitrage2.ipynb#ch0000005?line=7'>8</a>\u001b[0m all_predictions\u001b[39m.\u001b[39mappend(predictions)\n\u001b[0;32m      <a href='vscode-notebook-cell:/c%3A/Users/SHSIEH/Documents/ProjectsFuture/ML/project-walkthroughs/stock/arbitrage2.ipynb#ch0000005?line=8'>9</a>\u001b[0m loop \u001b[39m=\u001b[39m \u001b[39m0\u001b[39m \u001b[39m# loop + 1\u001b[39;00m\n",
      "\u001b[1;32mc:\\Users\\SHSIEH\\Documents\\ProjectsFuture\\ML\\project-walkthroughs\\stock\\arbitrage2.ipynb Cell 5'\u001b[0m in \u001b[0;36mpredict\u001b[1;34m(train, test, predictors, model)\u001b[0m\n\u001b[0;32m      <a href='vscode-notebook-cell:/c%3A/Users/SHSIEH/Documents/ProjectsFuture/ML/project-walkthroughs/stock/arbitrage2.ipynb#ch0000004?line=0'>1</a>\u001b[0m \u001b[39mdef\u001b[39;00m \u001b[39mpredict\u001b[39m(train, test, predictors, model):\n\u001b[1;32m----> <a href='vscode-notebook-cell:/c%3A/Users/SHSIEH/Documents/ProjectsFuture/ML/project-walkthroughs/stock/arbitrage2.ipynb#ch0000004?line=1'>2</a>\u001b[0m     model\u001b[39m.\u001b[39;49mfit(train[predictors], train[\u001b[39m\"\u001b[39;49m\u001b[39mTarget\u001b[39;49m\u001b[39m\"\u001b[39;49m])\n\u001b[0;32m      <a href='vscode-notebook-cell:/c%3A/Users/SHSIEH/Documents/ProjectsFuture/ML/project-walkthroughs/stock/arbitrage2.ipynb#ch0000004?line=2'>3</a>\u001b[0m     preds \u001b[39m=\u001b[39m model\u001b[39m.\u001b[39mpredict(test[predictors])\u001b[39m#[:,1]\u001b[39;00m\n\u001b[0;32m      <a href='vscode-notebook-cell:/c%3A/Users/SHSIEH/Documents/ProjectsFuture/ML/project-walkthroughs/stock/arbitrage2.ipynb#ch0000004?line=3'>4</a>\u001b[0m     \u001b[39m# preds[preds > .6] = 1\u001b[39;00m\n\u001b[0;32m      <a href='vscode-notebook-cell:/c%3A/Users/SHSIEH/Documents/ProjectsFuture/ML/project-walkthroughs/stock/arbitrage2.ipynb#ch0000004?line=4'>5</a>\u001b[0m     \u001b[39m# preds[preds<=.6] = 0\u001b[39;00m\n\u001b[0;32m      <a href='vscode-notebook-cell:/c%3A/Users/SHSIEH/Documents/ProjectsFuture/ML/project-walkthroughs/stock/arbitrage2.ipynb#ch0000004?line=5'>6</a>\u001b[0m     \u001b[39m# print(preds)\u001b[39;00m\n",
      "File \u001b[1;32mc:\\Users\\SHSIEH\\Documents\\ProjectsFuture\\ML\\project-walkthroughs\\stock\\stock_env\\lib\\site-packages\\sklearn\\ensemble\\_forest.py:476\u001b[0m, in \u001b[0;36mBaseForest.fit\u001b[1;34m(self, X, y, sample_weight)\u001b[0m\n\u001b[0;32m    <a href='file:///c%3A/Users/SHSIEH/Documents/ProjectsFuture/ML/project-walkthroughs/stock/stock_env/lib/site-packages/sklearn/ensemble/_forest.py?line=464'>465</a>\u001b[0m trees \u001b[39m=\u001b[39m [\n\u001b[0;32m    <a href='file:///c%3A/Users/SHSIEH/Documents/ProjectsFuture/ML/project-walkthroughs/stock/stock_env/lib/site-packages/sklearn/ensemble/_forest.py?line=465'>466</a>\u001b[0m     \u001b[39mself\u001b[39m\u001b[39m.\u001b[39m_make_estimator(append\u001b[39m=\u001b[39m\u001b[39mFalse\u001b[39;00m, random_state\u001b[39m=\u001b[39mrandom_state)\n\u001b[0;32m    <a href='file:///c%3A/Users/SHSIEH/Documents/ProjectsFuture/ML/project-walkthroughs/stock/stock_env/lib/site-packages/sklearn/ensemble/_forest.py?line=466'>467</a>\u001b[0m     \u001b[39mfor\u001b[39;00m i \u001b[39min\u001b[39;00m \u001b[39mrange\u001b[39m(n_more_estimators)\n\u001b[0;32m    <a href='file:///c%3A/Users/SHSIEH/Documents/ProjectsFuture/ML/project-walkthroughs/stock/stock_env/lib/site-packages/sklearn/ensemble/_forest.py?line=467'>468</a>\u001b[0m ]\n\u001b[0;32m    <a href='file:///c%3A/Users/SHSIEH/Documents/ProjectsFuture/ML/project-walkthroughs/stock/stock_env/lib/site-packages/sklearn/ensemble/_forest.py?line=469'>470</a>\u001b[0m \u001b[39m# Parallel loop: we prefer the threading backend as the Cython code\u001b[39;00m\n\u001b[0;32m    <a href='file:///c%3A/Users/SHSIEH/Documents/ProjectsFuture/ML/project-walkthroughs/stock/stock_env/lib/site-packages/sklearn/ensemble/_forest.py?line=470'>471</a>\u001b[0m \u001b[39m# for fitting the trees is internally releasing the Python GIL\u001b[39;00m\n\u001b[0;32m    <a href='file:///c%3A/Users/SHSIEH/Documents/ProjectsFuture/ML/project-walkthroughs/stock/stock_env/lib/site-packages/sklearn/ensemble/_forest.py?line=471'>472</a>\u001b[0m \u001b[39m# making threading more efficient than multiprocessing in\u001b[39;00m\n\u001b[0;32m    <a href='file:///c%3A/Users/SHSIEH/Documents/ProjectsFuture/ML/project-walkthroughs/stock/stock_env/lib/site-packages/sklearn/ensemble/_forest.py?line=472'>473</a>\u001b[0m \u001b[39m# that case. However, for joblib 0.12+ we respect any\u001b[39;00m\n\u001b[0;32m    <a href='file:///c%3A/Users/SHSIEH/Documents/ProjectsFuture/ML/project-walkthroughs/stock/stock_env/lib/site-packages/sklearn/ensemble/_forest.py?line=473'>474</a>\u001b[0m \u001b[39m# parallel_backend contexts set at a higher level,\u001b[39;00m\n\u001b[0;32m    <a href='file:///c%3A/Users/SHSIEH/Documents/ProjectsFuture/ML/project-walkthroughs/stock/stock_env/lib/site-packages/sklearn/ensemble/_forest.py?line=474'>475</a>\u001b[0m \u001b[39m# since correctness does not rely on using threads.\u001b[39;00m\n\u001b[1;32m--> <a href='file:///c%3A/Users/SHSIEH/Documents/ProjectsFuture/ML/project-walkthroughs/stock/stock_env/lib/site-packages/sklearn/ensemble/_forest.py?line=475'>476</a>\u001b[0m trees \u001b[39m=\u001b[39m Parallel(\n\u001b[0;32m    <a href='file:///c%3A/Users/SHSIEH/Documents/ProjectsFuture/ML/project-walkthroughs/stock/stock_env/lib/site-packages/sklearn/ensemble/_forest.py?line=476'>477</a>\u001b[0m     n_jobs\u001b[39m=\u001b[39;49m\u001b[39mself\u001b[39;49m\u001b[39m.\u001b[39;49mn_jobs,\n\u001b[0;32m    <a href='file:///c%3A/Users/SHSIEH/Documents/ProjectsFuture/ML/project-walkthroughs/stock/stock_env/lib/site-packages/sklearn/ensemble/_forest.py?line=477'>478</a>\u001b[0m     verbose\u001b[39m=\u001b[39;49m\u001b[39mself\u001b[39;49m\u001b[39m.\u001b[39;49mverbose,\n\u001b[0;32m    <a href='file:///c%3A/Users/SHSIEH/Documents/ProjectsFuture/ML/project-walkthroughs/stock/stock_env/lib/site-packages/sklearn/ensemble/_forest.py?line=478'>479</a>\u001b[0m     prefer\u001b[39m=\u001b[39;49m\u001b[39m\"\u001b[39;49m\u001b[39mthreads\u001b[39;49m\u001b[39m\"\u001b[39;49m,\n\u001b[0;32m    <a href='file:///c%3A/Users/SHSIEH/Documents/ProjectsFuture/ML/project-walkthroughs/stock/stock_env/lib/site-packages/sklearn/ensemble/_forest.py?line=479'>480</a>\u001b[0m )(\n\u001b[0;32m    <a href='file:///c%3A/Users/SHSIEH/Documents/ProjectsFuture/ML/project-walkthroughs/stock/stock_env/lib/site-packages/sklearn/ensemble/_forest.py?line=480'>481</a>\u001b[0m     delayed(_parallel_build_trees)(\n\u001b[0;32m    <a href='file:///c%3A/Users/SHSIEH/Documents/ProjectsFuture/ML/project-walkthroughs/stock/stock_env/lib/site-packages/sklearn/ensemble/_forest.py?line=481'>482</a>\u001b[0m         t,\n\u001b[0;32m    <a href='file:///c%3A/Users/SHSIEH/Documents/ProjectsFuture/ML/project-walkthroughs/stock/stock_env/lib/site-packages/sklearn/ensemble/_forest.py?line=482'>483</a>\u001b[0m         \u001b[39mself\u001b[39;49m\u001b[39m.\u001b[39;49mbootstrap,\n\u001b[0;32m    <a href='file:///c%3A/Users/SHSIEH/Documents/ProjectsFuture/ML/project-walkthroughs/stock/stock_env/lib/site-packages/sklearn/ensemble/_forest.py?line=483'>484</a>\u001b[0m         X,\n\u001b[0;32m    <a href='file:///c%3A/Users/SHSIEH/Documents/ProjectsFuture/ML/project-walkthroughs/stock/stock_env/lib/site-packages/sklearn/ensemble/_forest.py?line=484'>485</a>\u001b[0m         y,\n\u001b[0;32m    <a href='file:///c%3A/Users/SHSIEH/Documents/ProjectsFuture/ML/project-walkthroughs/stock/stock_env/lib/site-packages/sklearn/ensemble/_forest.py?line=485'>486</a>\u001b[0m         sample_weight,\n\u001b[0;32m    <a href='file:///c%3A/Users/SHSIEH/Documents/ProjectsFuture/ML/project-walkthroughs/stock/stock_env/lib/site-packages/sklearn/ensemble/_forest.py?line=486'>487</a>\u001b[0m         i,\n\u001b[0;32m    <a href='file:///c%3A/Users/SHSIEH/Documents/ProjectsFuture/ML/project-walkthroughs/stock/stock_env/lib/site-packages/sklearn/ensemble/_forest.py?line=487'>488</a>\u001b[0m         \u001b[39mlen\u001b[39;49m(trees),\n\u001b[0;32m    <a href='file:///c%3A/Users/SHSIEH/Documents/ProjectsFuture/ML/project-walkthroughs/stock/stock_env/lib/site-packages/sklearn/ensemble/_forest.py?line=488'>489</a>\u001b[0m         verbose\u001b[39m=\u001b[39;49m\u001b[39mself\u001b[39;49m\u001b[39m.\u001b[39;49mverbose,\n\u001b[0;32m    <a href='file:///c%3A/Users/SHSIEH/Documents/ProjectsFuture/ML/project-walkthroughs/stock/stock_env/lib/site-packages/sklearn/ensemble/_forest.py?line=489'>490</a>\u001b[0m         class_weight\u001b[39m=\u001b[39;49m\u001b[39mself\u001b[39;49m\u001b[39m.\u001b[39;49mclass_weight,\n\u001b[0;32m    <a href='file:///c%3A/Users/SHSIEH/Documents/ProjectsFuture/ML/project-walkthroughs/stock/stock_env/lib/site-packages/sklearn/ensemble/_forest.py?line=490'>491</a>\u001b[0m         n_samples_bootstrap\u001b[39m=\u001b[39;49mn_samples_bootstrap,\n\u001b[0;32m    <a href='file:///c%3A/Users/SHSIEH/Documents/ProjectsFuture/ML/project-walkthroughs/stock/stock_env/lib/site-packages/sklearn/ensemble/_forest.py?line=491'>492</a>\u001b[0m     )\n\u001b[0;32m    <a href='file:///c%3A/Users/SHSIEH/Documents/ProjectsFuture/ML/project-walkthroughs/stock/stock_env/lib/site-packages/sklearn/ensemble/_forest.py?line=492'>493</a>\u001b[0m     \u001b[39mfor\u001b[39;49;00m i, t \u001b[39min\u001b[39;49;00m \u001b[39menumerate\u001b[39;49m(trees)\n\u001b[0;32m    <a href='file:///c%3A/Users/SHSIEH/Documents/ProjectsFuture/ML/project-walkthroughs/stock/stock_env/lib/site-packages/sklearn/ensemble/_forest.py?line=493'>494</a>\u001b[0m )\n\u001b[0;32m    <a href='file:///c%3A/Users/SHSIEH/Documents/ProjectsFuture/ML/project-walkthroughs/stock/stock_env/lib/site-packages/sklearn/ensemble/_forest.py?line=495'>496</a>\u001b[0m \u001b[39m# Collect newly grown trees\u001b[39;00m\n\u001b[0;32m    <a href='file:///c%3A/Users/SHSIEH/Documents/ProjectsFuture/ML/project-walkthroughs/stock/stock_env/lib/site-packages/sklearn/ensemble/_forest.py?line=496'>497</a>\u001b[0m \u001b[39mself\u001b[39m\u001b[39m.\u001b[39mestimators_\u001b[39m.\u001b[39mextend(trees)\n",
      "File \u001b[1;32mc:\\Users\\SHSIEH\\Documents\\ProjectsFuture\\ML\\project-walkthroughs\\stock\\stock_env\\lib\\site-packages\\joblib\\parallel.py:1046\u001b[0m, in \u001b[0;36mParallel.__call__\u001b[1;34m(self, iterable)\u001b[0m\n\u001b[0;32m   <a href='file:///c%3A/Users/SHSIEH/Documents/ProjectsFuture/ML/project-walkthroughs/stock/stock_env/lib/site-packages/joblib/parallel.py?line=1042'>1043</a>\u001b[0m \u001b[39mif\u001b[39;00m \u001b[39mself\u001b[39m\u001b[39m.\u001b[39mdispatch_one_batch(iterator):\n\u001b[0;32m   <a href='file:///c%3A/Users/SHSIEH/Documents/ProjectsFuture/ML/project-walkthroughs/stock/stock_env/lib/site-packages/joblib/parallel.py?line=1043'>1044</a>\u001b[0m     \u001b[39mself\u001b[39m\u001b[39m.\u001b[39m_iterating \u001b[39m=\u001b[39m \u001b[39mself\u001b[39m\u001b[39m.\u001b[39m_original_iterator \u001b[39mis\u001b[39;00m \u001b[39mnot\u001b[39;00m \u001b[39mNone\u001b[39;00m\n\u001b[1;32m-> <a href='file:///c%3A/Users/SHSIEH/Documents/ProjectsFuture/ML/project-walkthroughs/stock/stock_env/lib/site-packages/joblib/parallel.py?line=1045'>1046</a>\u001b[0m \u001b[39mwhile\u001b[39;00m \u001b[39mself\u001b[39;49m\u001b[39m.\u001b[39;49mdispatch_one_batch(iterator):\n\u001b[0;32m   <a href='file:///c%3A/Users/SHSIEH/Documents/ProjectsFuture/ML/project-walkthroughs/stock/stock_env/lib/site-packages/joblib/parallel.py?line=1046'>1047</a>\u001b[0m     \u001b[39mpass\u001b[39;00m\n\u001b[0;32m   <a href='file:///c%3A/Users/SHSIEH/Documents/ProjectsFuture/ML/project-walkthroughs/stock/stock_env/lib/site-packages/joblib/parallel.py?line=1048'>1049</a>\u001b[0m \u001b[39mif\u001b[39;00m pre_dispatch \u001b[39m==\u001b[39m \u001b[39m\"\u001b[39m\u001b[39mall\u001b[39m\u001b[39m\"\u001b[39m \u001b[39mor\u001b[39;00m n_jobs \u001b[39m==\u001b[39m \u001b[39m1\u001b[39m:\n\u001b[0;32m   <a href='file:///c%3A/Users/SHSIEH/Documents/ProjectsFuture/ML/project-walkthroughs/stock/stock_env/lib/site-packages/joblib/parallel.py?line=1049'>1050</a>\u001b[0m     \u001b[39m# The iterable was consumed all at once by the above for loop.\u001b[39;00m\n\u001b[0;32m   <a href='file:///c%3A/Users/SHSIEH/Documents/ProjectsFuture/ML/project-walkthroughs/stock/stock_env/lib/site-packages/joblib/parallel.py?line=1050'>1051</a>\u001b[0m     \u001b[39m# No need to wait for async callbacks to trigger to\u001b[39;00m\n\u001b[0;32m   <a href='file:///c%3A/Users/SHSIEH/Documents/ProjectsFuture/ML/project-walkthroughs/stock/stock_env/lib/site-packages/joblib/parallel.py?line=1051'>1052</a>\u001b[0m     \u001b[39m# consumption.\u001b[39;00m\n",
      "File \u001b[1;32mc:\\Users\\SHSIEH\\Documents\\ProjectsFuture\\ML\\project-walkthroughs\\stock\\stock_env\\lib\\site-packages\\joblib\\parallel.py:861\u001b[0m, in \u001b[0;36mParallel.dispatch_one_batch\u001b[1;34m(self, iterator)\u001b[0m\n\u001b[0;32m    <a href='file:///c%3A/Users/SHSIEH/Documents/ProjectsFuture/ML/project-walkthroughs/stock/stock_env/lib/site-packages/joblib/parallel.py?line=858'>859</a>\u001b[0m     \u001b[39mreturn\u001b[39;00m \u001b[39mFalse\u001b[39;00m\n\u001b[0;32m    <a href='file:///c%3A/Users/SHSIEH/Documents/ProjectsFuture/ML/project-walkthroughs/stock/stock_env/lib/site-packages/joblib/parallel.py?line=859'>860</a>\u001b[0m \u001b[39melse\u001b[39;00m:\n\u001b[1;32m--> <a href='file:///c%3A/Users/SHSIEH/Documents/ProjectsFuture/ML/project-walkthroughs/stock/stock_env/lib/site-packages/joblib/parallel.py?line=860'>861</a>\u001b[0m     \u001b[39mself\u001b[39;49m\u001b[39m.\u001b[39;49m_dispatch(tasks)\n\u001b[0;32m    <a href='file:///c%3A/Users/SHSIEH/Documents/ProjectsFuture/ML/project-walkthroughs/stock/stock_env/lib/site-packages/joblib/parallel.py?line=861'>862</a>\u001b[0m     \u001b[39mreturn\u001b[39;00m \u001b[39mTrue\u001b[39;00m\n",
      "File \u001b[1;32mc:\\Users\\SHSIEH\\Documents\\ProjectsFuture\\ML\\project-walkthroughs\\stock\\stock_env\\lib\\site-packages\\joblib\\parallel.py:779\u001b[0m, in \u001b[0;36mParallel._dispatch\u001b[1;34m(self, batch)\u001b[0m\n\u001b[0;32m    <a href='file:///c%3A/Users/SHSIEH/Documents/ProjectsFuture/ML/project-walkthroughs/stock/stock_env/lib/site-packages/joblib/parallel.py?line=776'>777</a>\u001b[0m \u001b[39mwith\u001b[39;00m \u001b[39mself\u001b[39m\u001b[39m.\u001b[39m_lock:\n\u001b[0;32m    <a href='file:///c%3A/Users/SHSIEH/Documents/ProjectsFuture/ML/project-walkthroughs/stock/stock_env/lib/site-packages/joblib/parallel.py?line=777'>778</a>\u001b[0m     job_idx \u001b[39m=\u001b[39m \u001b[39mlen\u001b[39m(\u001b[39mself\u001b[39m\u001b[39m.\u001b[39m_jobs)\n\u001b[1;32m--> <a href='file:///c%3A/Users/SHSIEH/Documents/ProjectsFuture/ML/project-walkthroughs/stock/stock_env/lib/site-packages/joblib/parallel.py?line=778'>779</a>\u001b[0m     job \u001b[39m=\u001b[39m \u001b[39mself\u001b[39;49m\u001b[39m.\u001b[39;49m_backend\u001b[39m.\u001b[39;49mapply_async(batch, callback\u001b[39m=\u001b[39;49mcb)\n\u001b[0;32m    <a href='file:///c%3A/Users/SHSIEH/Documents/ProjectsFuture/ML/project-walkthroughs/stock/stock_env/lib/site-packages/joblib/parallel.py?line=779'>780</a>\u001b[0m     \u001b[39m# A job can complete so quickly than its callback is\u001b[39;00m\n\u001b[0;32m    <a href='file:///c%3A/Users/SHSIEH/Documents/ProjectsFuture/ML/project-walkthroughs/stock/stock_env/lib/site-packages/joblib/parallel.py?line=780'>781</a>\u001b[0m     \u001b[39m# called before we get here, causing self._jobs to\u001b[39;00m\n\u001b[0;32m    <a href='file:///c%3A/Users/SHSIEH/Documents/ProjectsFuture/ML/project-walkthroughs/stock/stock_env/lib/site-packages/joblib/parallel.py?line=781'>782</a>\u001b[0m     \u001b[39m# grow. To ensure correct results ordering, .insert is\u001b[39;00m\n\u001b[0;32m    <a href='file:///c%3A/Users/SHSIEH/Documents/ProjectsFuture/ML/project-walkthroughs/stock/stock_env/lib/site-packages/joblib/parallel.py?line=782'>783</a>\u001b[0m     \u001b[39m# used (rather than .append) in the following line\u001b[39;00m\n\u001b[0;32m    <a href='file:///c%3A/Users/SHSIEH/Documents/ProjectsFuture/ML/project-walkthroughs/stock/stock_env/lib/site-packages/joblib/parallel.py?line=783'>784</a>\u001b[0m     \u001b[39mself\u001b[39m\u001b[39m.\u001b[39m_jobs\u001b[39m.\u001b[39minsert(job_idx, job)\n",
      "File \u001b[1;32mc:\\Users\\SHSIEH\\Documents\\ProjectsFuture\\ML\\project-walkthroughs\\stock\\stock_env\\lib\\site-packages\\joblib\\_parallel_backends.py:208\u001b[0m, in \u001b[0;36mSequentialBackend.apply_async\u001b[1;34m(self, func, callback)\u001b[0m\n\u001b[0;32m    <a href='file:///c%3A/Users/SHSIEH/Documents/ProjectsFuture/ML/project-walkthroughs/stock/stock_env/lib/site-packages/joblib/_parallel_backends.py?line=205'>206</a>\u001b[0m \u001b[39mdef\u001b[39;00m \u001b[39mapply_async\u001b[39m(\u001b[39mself\u001b[39m, func, callback\u001b[39m=\u001b[39m\u001b[39mNone\u001b[39;00m):\n\u001b[0;32m    <a href='file:///c%3A/Users/SHSIEH/Documents/ProjectsFuture/ML/project-walkthroughs/stock/stock_env/lib/site-packages/joblib/_parallel_backends.py?line=206'>207</a>\u001b[0m     \u001b[39m\"\"\"Schedule a func to be run\"\"\"\u001b[39;00m\n\u001b[1;32m--> <a href='file:///c%3A/Users/SHSIEH/Documents/ProjectsFuture/ML/project-walkthroughs/stock/stock_env/lib/site-packages/joblib/_parallel_backends.py?line=207'>208</a>\u001b[0m     result \u001b[39m=\u001b[39m ImmediateResult(func)\n\u001b[0;32m    <a href='file:///c%3A/Users/SHSIEH/Documents/ProjectsFuture/ML/project-walkthroughs/stock/stock_env/lib/site-packages/joblib/_parallel_backends.py?line=208'>209</a>\u001b[0m     \u001b[39mif\u001b[39;00m callback:\n\u001b[0;32m    <a href='file:///c%3A/Users/SHSIEH/Documents/ProjectsFuture/ML/project-walkthroughs/stock/stock_env/lib/site-packages/joblib/_parallel_backends.py?line=209'>210</a>\u001b[0m         callback(result)\n",
      "File \u001b[1;32mc:\\Users\\SHSIEH\\Documents\\ProjectsFuture\\ML\\project-walkthroughs\\stock\\stock_env\\lib\\site-packages\\joblib\\_parallel_backends.py:572\u001b[0m, in \u001b[0;36mImmediateResult.__init__\u001b[1;34m(self, batch)\u001b[0m\n\u001b[0;32m    <a href='file:///c%3A/Users/SHSIEH/Documents/ProjectsFuture/ML/project-walkthroughs/stock/stock_env/lib/site-packages/joblib/_parallel_backends.py?line=568'>569</a>\u001b[0m \u001b[39mdef\u001b[39;00m \u001b[39m__init__\u001b[39m(\u001b[39mself\u001b[39m, batch):\n\u001b[0;32m    <a href='file:///c%3A/Users/SHSIEH/Documents/ProjectsFuture/ML/project-walkthroughs/stock/stock_env/lib/site-packages/joblib/_parallel_backends.py?line=569'>570</a>\u001b[0m     \u001b[39m# Don't delay the application, to avoid keeping the input\u001b[39;00m\n\u001b[0;32m    <a href='file:///c%3A/Users/SHSIEH/Documents/ProjectsFuture/ML/project-walkthroughs/stock/stock_env/lib/site-packages/joblib/_parallel_backends.py?line=570'>571</a>\u001b[0m     \u001b[39m# arguments in memory\u001b[39;00m\n\u001b[1;32m--> <a href='file:///c%3A/Users/SHSIEH/Documents/ProjectsFuture/ML/project-walkthroughs/stock/stock_env/lib/site-packages/joblib/_parallel_backends.py?line=571'>572</a>\u001b[0m     \u001b[39mself\u001b[39m\u001b[39m.\u001b[39mresults \u001b[39m=\u001b[39m batch()\n",
      "File \u001b[1;32mc:\\Users\\SHSIEH\\Documents\\ProjectsFuture\\ML\\project-walkthroughs\\stock\\stock_env\\lib\\site-packages\\joblib\\parallel.py:262\u001b[0m, in \u001b[0;36mBatchedCalls.__call__\u001b[1;34m(self)\u001b[0m\n\u001b[0;32m    <a href='file:///c%3A/Users/SHSIEH/Documents/ProjectsFuture/ML/project-walkthroughs/stock/stock_env/lib/site-packages/joblib/parallel.py?line=257'>258</a>\u001b[0m \u001b[39mdef\u001b[39;00m \u001b[39m__call__\u001b[39m(\u001b[39mself\u001b[39m):\n\u001b[0;32m    <a href='file:///c%3A/Users/SHSIEH/Documents/ProjectsFuture/ML/project-walkthroughs/stock/stock_env/lib/site-packages/joblib/parallel.py?line=258'>259</a>\u001b[0m     \u001b[39m# Set the default nested backend to self._backend but do not set the\u001b[39;00m\n\u001b[0;32m    <a href='file:///c%3A/Users/SHSIEH/Documents/ProjectsFuture/ML/project-walkthroughs/stock/stock_env/lib/site-packages/joblib/parallel.py?line=259'>260</a>\u001b[0m     \u001b[39m# change the default number of processes to -1\u001b[39;00m\n\u001b[0;32m    <a href='file:///c%3A/Users/SHSIEH/Documents/ProjectsFuture/ML/project-walkthroughs/stock/stock_env/lib/site-packages/joblib/parallel.py?line=260'>261</a>\u001b[0m     \u001b[39mwith\u001b[39;00m parallel_backend(\u001b[39mself\u001b[39m\u001b[39m.\u001b[39m_backend, n_jobs\u001b[39m=\u001b[39m\u001b[39mself\u001b[39m\u001b[39m.\u001b[39m_n_jobs):\n\u001b[1;32m--> <a href='file:///c%3A/Users/SHSIEH/Documents/ProjectsFuture/ML/project-walkthroughs/stock/stock_env/lib/site-packages/joblib/parallel.py?line=261'>262</a>\u001b[0m         \u001b[39mreturn\u001b[39;00m [func(\u001b[39m*\u001b[39margs, \u001b[39m*\u001b[39m\u001b[39m*\u001b[39mkwargs)\n\u001b[0;32m    <a href='file:///c%3A/Users/SHSIEH/Documents/ProjectsFuture/ML/project-walkthroughs/stock/stock_env/lib/site-packages/joblib/parallel.py?line=262'>263</a>\u001b[0m                 \u001b[39mfor\u001b[39;00m func, args, kwargs \u001b[39min\u001b[39;00m \u001b[39mself\u001b[39m\u001b[39m.\u001b[39mitems]\n",
      "File \u001b[1;32mc:\\Users\\SHSIEH\\Documents\\ProjectsFuture\\ML\\project-walkthroughs\\stock\\stock_env\\lib\\site-packages\\joblib\\parallel.py:262\u001b[0m, in \u001b[0;36m<listcomp>\u001b[1;34m(.0)\u001b[0m\n\u001b[0;32m    <a href='file:///c%3A/Users/SHSIEH/Documents/ProjectsFuture/ML/project-walkthroughs/stock/stock_env/lib/site-packages/joblib/parallel.py?line=257'>258</a>\u001b[0m \u001b[39mdef\u001b[39;00m \u001b[39m__call__\u001b[39m(\u001b[39mself\u001b[39m):\n\u001b[0;32m    <a href='file:///c%3A/Users/SHSIEH/Documents/ProjectsFuture/ML/project-walkthroughs/stock/stock_env/lib/site-packages/joblib/parallel.py?line=258'>259</a>\u001b[0m     \u001b[39m# Set the default nested backend to self._backend but do not set the\u001b[39;00m\n\u001b[0;32m    <a href='file:///c%3A/Users/SHSIEH/Documents/ProjectsFuture/ML/project-walkthroughs/stock/stock_env/lib/site-packages/joblib/parallel.py?line=259'>260</a>\u001b[0m     \u001b[39m# change the default number of processes to -1\u001b[39;00m\n\u001b[0;32m    <a href='file:///c%3A/Users/SHSIEH/Documents/ProjectsFuture/ML/project-walkthroughs/stock/stock_env/lib/site-packages/joblib/parallel.py?line=260'>261</a>\u001b[0m     \u001b[39mwith\u001b[39;00m parallel_backend(\u001b[39mself\u001b[39m\u001b[39m.\u001b[39m_backend, n_jobs\u001b[39m=\u001b[39m\u001b[39mself\u001b[39m\u001b[39m.\u001b[39m_n_jobs):\n\u001b[1;32m--> <a href='file:///c%3A/Users/SHSIEH/Documents/ProjectsFuture/ML/project-walkthroughs/stock/stock_env/lib/site-packages/joblib/parallel.py?line=261'>262</a>\u001b[0m         \u001b[39mreturn\u001b[39;00m [func(\u001b[39m*\u001b[39margs, \u001b[39m*\u001b[39m\u001b[39m*\u001b[39mkwargs)\n\u001b[0;32m    <a href='file:///c%3A/Users/SHSIEH/Documents/ProjectsFuture/ML/project-walkthroughs/stock/stock_env/lib/site-packages/joblib/parallel.py?line=262'>263</a>\u001b[0m                 \u001b[39mfor\u001b[39;00m func, args, kwargs \u001b[39min\u001b[39;00m \u001b[39mself\u001b[39m\u001b[39m.\u001b[39mitems]\n",
      "File \u001b[1;32mc:\\Users\\SHSIEH\\Documents\\ProjectsFuture\\ML\\project-walkthroughs\\stock\\stock_env\\lib\\site-packages\\sklearn\\utils\\fixes.py:117\u001b[0m, in \u001b[0;36m_FuncWrapper.__call__\u001b[1;34m(self, *args, **kwargs)\u001b[0m\n\u001b[0;32m    <a href='file:///c%3A/Users/SHSIEH/Documents/ProjectsFuture/ML/project-walkthroughs/stock/stock_env/lib/site-packages/sklearn/utils/fixes.py?line=114'>115</a>\u001b[0m \u001b[39mdef\u001b[39;00m \u001b[39m__call__\u001b[39m(\u001b[39mself\u001b[39m, \u001b[39m*\u001b[39margs, \u001b[39m*\u001b[39m\u001b[39m*\u001b[39mkwargs):\n\u001b[0;32m    <a href='file:///c%3A/Users/SHSIEH/Documents/ProjectsFuture/ML/project-walkthroughs/stock/stock_env/lib/site-packages/sklearn/utils/fixes.py?line=115'>116</a>\u001b[0m     \u001b[39mwith\u001b[39;00m config_context(\u001b[39m*\u001b[39m\u001b[39m*\u001b[39m\u001b[39mself\u001b[39m\u001b[39m.\u001b[39mconfig):\n\u001b[1;32m--> <a href='file:///c%3A/Users/SHSIEH/Documents/ProjectsFuture/ML/project-walkthroughs/stock/stock_env/lib/site-packages/sklearn/utils/fixes.py?line=116'>117</a>\u001b[0m         \u001b[39mreturn\u001b[39;00m \u001b[39mself\u001b[39m\u001b[39m.\u001b[39mfunction(\u001b[39m*\u001b[39margs, \u001b[39m*\u001b[39m\u001b[39m*\u001b[39mkwargs)\n",
      "File \u001b[1;32mc:\\Users\\SHSIEH\\Documents\\ProjectsFuture\\ML\\project-walkthroughs\\stock\\stock_env\\lib\\site-packages\\sklearn\\ensemble\\_forest.py:189\u001b[0m, in \u001b[0;36m_parallel_build_trees\u001b[1;34m(tree, bootstrap, X, y, sample_weight, tree_idx, n_trees, verbose, class_weight, n_samples_bootstrap)\u001b[0m\n\u001b[0;32m    <a href='file:///c%3A/Users/SHSIEH/Documents/ProjectsFuture/ML/project-walkthroughs/stock/stock_env/lib/site-packages/sklearn/ensemble/_forest.py?line=185'>186</a>\u001b[0m     \u001b[39melif\u001b[39;00m class_weight \u001b[39m==\u001b[39m \u001b[39m\"\u001b[39m\u001b[39mbalanced_subsample\u001b[39m\u001b[39m\"\u001b[39m:\n\u001b[0;32m    <a href='file:///c%3A/Users/SHSIEH/Documents/ProjectsFuture/ML/project-walkthroughs/stock/stock_env/lib/site-packages/sklearn/ensemble/_forest.py?line=186'>187</a>\u001b[0m         curr_sample_weight \u001b[39m*\u001b[39m\u001b[39m=\u001b[39m compute_sample_weight(\u001b[39m\"\u001b[39m\u001b[39mbalanced\u001b[39m\u001b[39m\"\u001b[39m, y, indices\u001b[39m=\u001b[39mindices)\n\u001b[1;32m--> <a href='file:///c%3A/Users/SHSIEH/Documents/ProjectsFuture/ML/project-walkthroughs/stock/stock_env/lib/site-packages/sklearn/ensemble/_forest.py?line=188'>189</a>\u001b[0m     tree\u001b[39m.\u001b[39;49mfit(X, y, sample_weight\u001b[39m=\u001b[39;49mcurr_sample_weight, check_input\u001b[39m=\u001b[39;49m\u001b[39mFalse\u001b[39;49;00m)\n\u001b[0;32m    <a href='file:///c%3A/Users/SHSIEH/Documents/ProjectsFuture/ML/project-walkthroughs/stock/stock_env/lib/site-packages/sklearn/ensemble/_forest.py?line=189'>190</a>\u001b[0m \u001b[39melse\u001b[39;00m:\n\u001b[0;32m    <a href='file:///c%3A/Users/SHSIEH/Documents/ProjectsFuture/ML/project-walkthroughs/stock/stock_env/lib/site-packages/sklearn/ensemble/_forest.py?line=190'>191</a>\u001b[0m     tree\u001b[39m.\u001b[39mfit(X, y, sample_weight\u001b[39m=\u001b[39msample_weight, check_input\u001b[39m=\u001b[39m\u001b[39mFalse\u001b[39;00m)\n",
      "File \u001b[1;32mc:\\Users\\SHSIEH\\Documents\\ProjectsFuture\\ML\\project-walkthroughs\\stock\\stock_env\\lib\\site-packages\\sklearn\\tree\\_classes.py:969\u001b[0m, in \u001b[0;36mDecisionTreeClassifier.fit\u001b[1;34m(self, X, y, sample_weight, check_input)\u001b[0m\n\u001b[0;32m    <a href='file:///c%3A/Users/SHSIEH/Documents/ProjectsFuture/ML/project-walkthroughs/stock/stock_env/lib/site-packages/sklearn/tree/_classes.py?line=938'>939</a>\u001b[0m \u001b[39mdef\u001b[39;00m \u001b[39mfit\u001b[39m(\u001b[39mself\u001b[39m, X, y, sample_weight\u001b[39m=\u001b[39m\u001b[39mNone\u001b[39;00m, check_input\u001b[39m=\u001b[39m\u001b[39mTrue\u001b[39;00m):\n\u001b[0;32m    <a href='file:///c%3A/Users/SHSIEH/Documents/ProjectsFuture/ML/project-walkthroughs/stock/stock_env/lib/site-packages/sklearn/tree/_classes.py?line=939'>940</a>\u001b[0m     \u001b[39m\"\"\"Build a decision tree classifier from the training set (X, y).\u001b[39;00m\n\u001b[0;32m    <a href='file:///c%3A/Users/SHSIEH/Documents/ProjectsFuture/ML/project-walkthroughs/stock/stock_env/lib/site-packages/sklearn/tree/_classes.py?line=940'>941</a>\u001b[0m \n\u001b[0;32m    <a href='file:///c%3A/Users/SHSIEH/Documents/ProjectsFuture/ML/project-walkthroughs/stock/stock_env/lib/site-packages/sklearn/tree/_classes.py?line=941'>942</a>\u001b[0m \u001b[39m    Parameters\u001b[39;00m\n\u001b[1;32m   (...)\u001b[0m\n\u001b[0;32m    <a href='file:///c%3A/Users/SHSIEH/Documents/ProjectsFuture/ML/project-walkthroughs/stock/stock_env/lib/site-packages/sklearn/tree/_classes.py?line=965'>966</a>\u001b[0m \u001b[39m        Fitted estimator.\u001b[39;00m\n\u001b[0;32m    <a href='file:///c%3A/Users/SHSIEH/Documents/ProjectsFuture/ML/project-walkthroughs/stock/stock_env/lib/site-packages/sklearn/tree/_classes.py?line=966'>967</a>\u001b[0m \u001b[39m    \"\"\"\u001b[39;00m\n\u001b[1;32m--> <a href='file:///c%3A/Users/SHSIEH/Documents/ProjectsFuture/ML/project-walkthroughs/stock/stock_env/lib/site-packages/sklearn/tree/_classes.py?line=968'>969</a>\u001b[0m     \u001b[39msuper\u001b[39;49m()\u001b[39m.\u001b[39;49mfit(\n\u001b[0;32m    <a href='file:///c%3A/Users/SHSIEH/Documents/ProjectsFuture/ML/project-walkthroughs/stock/stock_env/lib/site-packages/sklearn/tree/_classes.py?line=969'>970</a>\u001b[0m         X,\n\u001b[0;32m    <a href='file:///c%3A/Users/SHSIEH/Documents/ProjectsFuture/ML/project-walkthroughs/stock/stock_env/lib/site-packages/sklearn/tree/_classes.py?line=970'>971</a>\u001b[0m         y,\n\u001b[0;32m    <a href='file:///c%3A/Users/SHSIEH/Documents/ProjectsFuture/ML/project-walkthroughs/stock/stock_env/lib/site-packages/sklearn/tree/_classes.py?line=971'>972</a>\u001b[0m         sample_weight\u001b[39m=\u001b[39;49msample_weight,\n\u001b[0;32m    <a href='file:///c%3A/Users/SHSIEH/Documents/ProjectsFuture/ML/project-walkthroughs/stock/stock_env/lib/site-packages/sklearn/tree/_classes.py?line=972'>973</a>\u001b[0m         check_input\u001b[39m=\u001b[39;49mcheck_input,\n\u001b[0;32m    <a href='file:///c%3A/Users/SHSIEH/Documents/ProjectsFuture/ML/project-walkthroughs/stock/stock_env/lib/site-packages/sklearn/tree/_classes.py?line=973'>974</a>\u001b[0m     )\n\u001b[0;32m    <a href='file:///c%3A/Users/SHSIEH/Documents/ProjectsFuture/ML/project-walkthroughs/stock/stock_env/lib/site-packages/sklearn/tree/_classes.py?line=974'>975</a>\u001b[0m     \u001b[39mreturn\u001b[39;00m \u001b[39mself\u001b[39m\n",
      "File \u001b[1;32mc:\\Users\\SHSIEH\\Documents\\ProjectsFuture\\ML\\project-walkthroughs\\stock\\stock_env\\lib\\site-packages\\sklearn\\tree\\_classes.py:458\u001b[0m, in \u001b[0;36mBaseDecisionTree.fit\u001b[1;34m(self, X, y, sample_weight, check_input)\u001b[0m\n\u001b[0;32m    <a href='file:///c%3A/Users/SHSIEH/Documents/ProjectsFuture/ML/project-walkthroughs/stock/stock_env/lib/site-packages/sklearn/tree/_classes.py?line=446'>447</a>\u001b[0m \u001b[39melse\u001b[39;00m:\n\u001b[0;32m    <a href='file:///c%3A/Users/SHSIEH/Documents/ProjectsFuture/ML/project-walkthroughs/stock/stock_env/lib/site-packages/sklearn/tree/_classes.py?line=447'>448</a>\u001b[0m     builder \u001b[39m=\u001b[39m BestFirstTreeBuilder(\n\u001b[0;32m    <a href='file:///c%3A/Users/SHSIEH/Documents/ProjectsFuture/ML/project-walkthroughs/stock/stock_env/lib/site-packages/sklearn/tree/_classes.py?line=448'>449</a>\u001b[0m         splitter,\n\u001b[0;32m    <a href='file:///c%3A/Users/SHSIEH/Documents/ProjectsFuture/ML/project-walkthroughs/stock/stock_env/lib/site-packages/sklearn/tree/_classes.py?line=449'>450</a>\u001b[0m         min_samples_split,\n\u001b[1;32m   (...)\u001b[0m\n\u001b[0;32m    <a href='file:///c%3A/Users/SHSIEH/Documents/ProjectsFuture/ML/project-walkthroughs/stock/stock_env/lib/site-packages/sklearn/tree/_classes.py?line=454'>455</a>\u001b[0m         \u001b[39mself\u001b[39m\u001b[39m.\u001b[39mmin_impurity_decrease,\n\u001b[0;32m    <a href='file:///c%3A/Users/SHSIEH/Documents/ProjectsFuture/ML/project-walkthroughs/stock/stock_env/lib/site-packages/sklearn/tree/_classes.py?line=455'>456</a>\u001b[0m     )\n\u001b[1;32m--> <a href='file:///c%3A/Users/SHSIEH/Documents/ProjectsFuture/ML/project-walkthroughs/stock/stock_env/lib/site-packages/sklearn/tree/_classes.py?line=457'>458</a>\u001b[0m builder\u001b[39m.\u001b[39;49mbuild(\u001b[39mself\u001b[39;49m\u001b[39m.\u001b[39;49mtree_, X, y, sample_weight)\n\u001b[0;32m    <a href='file:///c%3A/Users/SHSIEH/Documents/ProjectsFuture/ML/project-walkthroughs/stock/stock_env/lib/site-packages/sklearn/tree/_classes.py?line=459'>460</a>\u001b[0m \u001b[39mif\u001b[39;00m \u001b[39mself\u001b[39m\u001b[39m.\u001b[39mn_outputs_ \u001b[39m==\u001b[39m \u001b[39m1\u001b[39m \u001b[39mand\u001b[39;00m is_classifier(\u001b[39mself\u001b[39m):\n\u001b[0;32m    <a href='file:///c%3A/Users/SHSIEH/Documents/ProjectsFuture/ML/project-walkthroughs/stock/stock_env/lib/site-packages/sklearn/tree/_classes.py?line=460'>461</a>\u001b[0m     \u001b[39mself\u001b[39m\u001b[39m.\u001b[39mn_classes_ \u001b[39m=\u001b[39m \u001b[39mself\u001b[39m\u001b[39m.\u001b[39mn_classes_[\u001b[39m0\u001b[39m]\n",
      "\u001b[1;31mKeyboardInterrupt\u001b[0m: "
     ]
    }
   ],
   "source": [
    "model = RandomForestClassifier(n_estimators=100, min_samples_split=1200, random_state=1)\n",
    "symbols = ['CVX',\n",
    "'HON',\n",
    "'CRM',\n",
    "'UNH',\n",
    "'CSCO',\n",
    "'WMT',\n",
    "'AXP',\n",
    "'JPM',\n",
    "'MCD',\n",
    "'HD',\n",
    "'AMGN',\n",
    "'V',\n",
    "'INTC',\n",
    "'WBA',\n",
    "'GS',\n",
    "'JNJ',\n",
    "'PG',\n",
    "'AAPL',\n",
    "'DIS',\n",
    "'MMM',\n",
    "'MRK',\n",
    "'MSFT',\n",
    "'TRV',\n",
    "'VZ',\n",
    "'IBM',\n",
    "'CAT',\n",
    "'NKE']\n",
    "for s in symbols:\n",
    "    df = getData(s)\n",
    "    transformData(df)\n",
    "    predictors = getPredictors(df)\n",
    "    data = getMLdata(df, predictors)\n",
    "    \n",
    "    predictions = backtest(data, model, predictors)\n",
    "    pickle.dump(model, open(f\"{s}\", 'wb'))\n",
    "    processResult(data, predictions)\n",
    "    precision_score(predictions[\"Target\"], predictions[\"Predictions\"])\n",
    "    "
   ]
  }
 ],
 "metadata": {
  "interpreter": {
   "hash": "4223721b935e787d1a81dca878f9f2d2b750048c9eff3ca6a507cac59c6a2e97"
  },
  "kernelspec": {
   "display_name": "Python 3.10.1 ('stock_env': venv)",
   "language": "python",
   "name": "python3"
  },
  "language_info": {
   "codemirror_mode": {
    "name": "ipython",
    "version": 3
   },
   "file_extension": ".py",
   "mimetype": "text/x-python",
   "name": "python",
   "nbconvert_exporter": "python",
   "pygments_lexer": "ipython3",
   "version": "3.10.1"
  },
  "orig_nbformat": 4
 },
 "nbformat": 4,
 "nbformat_minor": 2
}
